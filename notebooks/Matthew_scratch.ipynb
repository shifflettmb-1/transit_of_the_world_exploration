{
 "cells": [
  {
   "cell_type": "code",
   "execution_count": 78,
   "id": "0681bc3c",
   "metadata": {},
   "outputs": [],
   "source": [
    "import pandas as pd\n",
    "import matplotlib.pyplot as plt\n",
    "import seaborn as sns\n",
    "import plotly.express as px\n",
    "import matplotlib.patches as mpatches\n",
    "import numpy as np\n",
    "import folium\n",
    "from folium import plugins\n",
    "from folium.plugins import MarkerCluster\n",
    "\n",
    "cities_df = pd.read_csv('../data/cities.csv')\n",
    "lines_df = pd.read_csv('../data/lines.csv')\n",
    "station_lines_df = pd.read_csv('../data/station_lines.csv')\n",
    "stations_df = pd.read_csv('../data/stations.csv')\n",
    "systems_df= pd.read_csv('../data/systems.csv')\n",
    "track_lines_df = pd.read_csv('../data/track_lines.csv')\n",
    "track_df = pd.read_csv('../data/tracks.csv')\n",
    "\n"
   ]
  },
  {
   "cell_type": "code",
   "execution_count": 79,
   "id": "93423d4e",
   "metadata": {},
   "outputs": [
    {
     "name": "stdout",
     "output_type": "stream",
     "text": [
      "<class 'pandas.core.frame.DataFrame'>\n",
      "RangeIndex: 334 entries, 0 to 333\n",
      "Data columns (total 7 columns):\n",
      " #   Column      Non-Null Count  Dtype  \n",
      "---  ------      --------------  -----  \n",
      " 0   id          334 non-null    int64  \n",
      " 1   name        334 non-null    object \n",
      " 2   start_year  334 non-null    float64\n",
      " 3   url_name    334 non-null    object \n",
      " 4   country     334 non-null    object \n",
      " 5   Long        334 non-null    object \n",
      " 6   Lat         334 non-null    object \n",
      "dtypes: float64(1), int64(1), object(5)\n",
      "memory usage: 18.4+ KB\n"
     ]
    },
    {
     "data": {
      "application/vnd.plotly.v1+json": {
       "config": {
        "plotlyServerURL": "https://plot.ly"
       },
       "data": [
        {
         "geo": "geo",
         "hovertemplate": "<b>%{hovertext}</b><br><br>Lat=%{lat}<br>Long=%{lon}<extra></extra>",
         "hovertext": [
          "Aberdeen",
          "Adelaide",
          "Algiers",
          "Ankara",
          "Belém",
          "Asunción",
          "Athens",
          "Auckland",
          "Bangkok",
          "Ottawa",
          "Belfast",
          "Belgrade",
          "St.-Brieuc",
          "Poitier",
          "Chicago",
          "Annecy",
          "Roanne",
          "Roura",
          "Sinnamary",
          "Biarritz",
          "Aix-en-Provence",
          "Perpignan",
          "Tarbes",
          "Clermont-Ferrand",
          "Amsterdam",
          "San Sebastián",
          "Birmingham",
          "Bombay",
          "Bremen",
          "Brisbane",
          "Bristol",
          "Brussels",
          "Bucharest",
          "Budapest",
          "Cairo",
          "Calcutta",
          "Canton",
          "Cape Town",
          "Bordeaux",
          "Melun",
          "Berlin",
          "Arras",
          "Saint-Georges",
          "Saint-Etienne",
          "Fort-de-France",
          "Saint-Laurent-du-Maroni",
          "Iracoubo",
          "Cherbourg",
          "Caen",
          "Besancon",
          "Cayenne",
          "Chihuahua",
          "Chongqing",
          "Copenhagen",
          "Córdoba",
          "Dakar",
          "Darwin",
          "Djibouti",
          "Dublin",
          "Durban",
          "Frankfurt",
          "Georgetown",
          "Guatemala City",
          "Edinburgh",
          "Glasgow",
          "Lorient",
          "Agen",
          "Ajaccio",
          "Bastia",
          "Toulon",
          "Beziers",
          "Le Mans",
          "Guayaquil",
          "Hamburg",
          "Hammerfest",
          "Havana",
          "Helsinki",
          "Hobart",
          "Hong Kong",
          "Iquique",
          "Irkutsk",
          "Jakarta",
          "Johannesburg",
          "Kingston",
          "Kinshasa",
          "Kuala Lumpur",
          "Nimes",
          "Vichy",
          "Nevers",
          "Auxerre",
          "Montpellier",
          "Manila",
          "Lyons",
          "Dieppe",
          "Leeds",
          "Liverpool",
          "Lisbon",
          "Manchester",
          "Mazatlán",
          "Mecca",
          "Montevideo",
          "Moscow",
          "Munich",
          "Marseilles",
          "Bourges",
          "Milan",
          "Versailles",
          "Brive",
          "Troyes",
          "Calais",
          "Amiens",
          "Metz",
          "Pointe-a-Pitre",
          "Basse-terre",
          "St.-Benoit",
          "Dzaoudzi",
          "Rouen",
          "Dijon",
          "Mulhouse",
          "Nice",
          "Reims",
          "Nancy",
          "Orleans",
          "Le Havre",
          "Lille",
          "Osaka",
          "Nagasaki",
          "Nagoya",
          "Nairobi",
          "New Delhi",
          "Odessa",
          "Nanjing",
          "Oslo",
          "Panama City",
          "Paramaribo",
          "Perth",
          "Plymouth",
          "Naples",
          "Paris",
          "Toulouse",
          "Limoges",
          "Newcastle-on-Tyne",
          "Kourou",
          "La Rochelle",
          "St.-Denis",
          "Cayenne",
          "Strasbourg",
          "Singapore",
          "Sofia",
          "Salvador",
          "Port Moresby",
          "Prague",
          "Rangoon",
          "Reykjavík",
          "St. Petersburg",
          "Tananarive",
          "Tours",
          "Rome",
          "Angers",
          "São Paulo",
          "Grenoble",
          "Sydney",
          "Melbourne",
          "Detroit",
          "Helena",
          "Pierre",
          "Rio de Janeiro",
          "La Paz",
          "La Plata",
          "Alicante",
          "Neuquén",
          "Medellín",
          "Tokyo",
          "Teheran",
          "Tripoli",
          "Veracruz",
          "Vladivostok",
          "Warsaw",
          "Wellington",
          "Zürich",
          "Boise",
          "Brest",
          "Venice",
          "Valparaíso",
          "Boston",
          "Charleston",
          "Buffalo",
          "Monterrey",
          "Calgary",
          "Carlsbad",
          "Charleston",
          "Bangor",
          "Caracas",
          "Albany",
          "Albuquerque",
          "Amarillo",
          "Anchorage",
          "Atlanta",
          "Austin",
          "Baker",
          "Baltimore",
          "Birmingham",
          "Bismarck",
          "Charlotte",
          "Cheyenne",
          "Cleveland",
          "Columbia",
          "Columbus",
          "Denver",
          "Des Moines",
          "Dallas",
          "Cincinnati",
          "Dubuque",
          "Duluth",
          "Eastport",
          "Edmonton",
          "El Centro",
          "El Paso",
          "Eugene",
          "Fargo",
          "Flagstaff",
          "Fort Worth",
          "Fresno",
          "Grand Junction",
          "Grand Rapids",
          "Havre",
          "Honolulu",
          "Hot Springs",
          "Houston",
          "Idaho Falls",
          "Indianapolis",
          "Jackson",
          "Jacksonville",
          "Juneau",
          "Kansas City",
          "Key West",
          "Kingston",
          "Klamath Falls",
          "Knoxville",
          "Las Vegas",
          "Lewiston",
          "Lincoln",
          "London",
          "Long Beach",
          "Los Angeles",
          "Louisville",
          "Manchester",
          "Memphis",
          "Miami",
          "Milwaukee",
          "Minneapolis",
          "Mobile",
          "Montgomery",
          "Montpelier",
          "Nashville",
          "Moose Jaw",
          "Nelson",
          "Newark",
          "New Haven",
          "New Orleans",
          "Nome",
          "Oakland",
          "Oklahoma City",
          "Omaha",
          "Philadelphia",
          "Phoenix",
          "Montréal",
          "New York",
          "Pittsburgh",
          "Portland",
          "Portland",
          "Providence",
          "Quebec",
          "Raleigh",
          "Reno",
          "Richfield",
          "Richmond",
          "Roanoke",
          "Sacramento",
          "St. John",
          "St. Louis",
          "Salt Lake City",
          "San Antonio",
          "San Diego",
          "San Francisco",
          "San Jose",
          "San Juan",
          "Santa Fe",
          "Savannah",
          "Shreveport",
          "Sioux Falls",
          "Sitka",
          "Spokane",
          "Springfield",
          "Springfield",
          "Seattle",
          "Springfield",
          "Syracuse",
          "Tampa",
          "Toledo",
          "Tulsa",
          "Vancouver",
          "Victoria",
          "Virginia Beach",
          "Toronto",
          "Wichita",
          "Wilmington",
          "Sevilla",
          "Winnipeg",
          "Valencia",
          "Rosario",
          "Mendoza",
          "Madrid",
          "Barcelona",
          "Mexico City",
          "Guadalajara",
          "Lima",
          "Bilbao",
          "Vienna",
          "Shanghai",
          "Bogotá",
          "Santiago",
          "Buenos Aires",
          "Concepción",
          "Genoa",
          "Graz",
          "Zaragoza",
          "Innsbruck",
          "Washington",
          "Nantes",
          "Stockholm",
          "Rennes",
          "Beijing",
          "London"
         ],
         "lat": [
          "57.15",
          "-34.91666667",
          "36.83333333",
          "39.91666667",
          "-1.466666667",
          "-25.25",
          "37.96666667",
          "-36.86666667",
          "13.75",
          "45.4",
          "54.61666667",
          "44.86666667",
          "48.51666262",
          "46.58329226",
          "41.83333333",
          "45.89997479",
          "46.03332583",
          "4.729981302",
          "5.380019144",
          "43.47327537",
          "43.51999086",
          "42.69998924",
          "43.23329002",
          "45.77998212",
          "52.36666667",
          "43.32",
          "52.41666667",
          "19",
          "53.08333333",
          "-27.48333333",
          "51.46666667",
          "50.86666667",
          "44.41666667",
          "47.5",
          "30.03333333",
          "22.56666667",
          "23.11666667",
          "-33.91666667",
          "44.83333333",
          "48.53330243",
          "52.5",
          "50.28332481",
          "3.9104706",
          "45.43039105",
          "14.6104118",
          "5.497624081",
          "5.480426452",
          "49.65039187",
          "49.18375368",
          "47.22999697",
          "4.816666667",
          "28.61666667",
          "29.76666667",
          "55.66666667",
          "-31.46666667",
          "14.66666667",
          "-12.46666667",
          "11.5",
          "53.33333333",
          "-29.88333333",
          "50.11666667",
          "6.75",
          "14.61666667",
          "55.91666667",
          "55.83333333",
          "47.75040448",
          "44.20041445",
          "41.92706484",
          "42.70316734",
          "43.13418645",
          "43.35049217",
          "48.00041506",
          "-2.166666667",
          "53.55",
          "70.63333333",
          "23.13333333",
          "60.16666667",
          "-42.86666667",
          "22.33333333",
          "-20.16666667",
          "52.5",
          "-6.266666667",
          "-26.2",
          "17.98333333",
          "-4.3",
          "3.133333333",
          "43.83038535",
          "46.117145",
          "46.98373293",
          "47.80042727",
          "43.61039878",
          "14.58333333",
          "45.75",
          "49.93373374",
          "53.75",
          "53.41666667",
          "38.73333333",
          "53.5",
          "23.2",
          "21.48333333",
          "-34.88333333",
          "55.75",
          "48.13333333",
          "43.33333333",
          "47.08372683",
          "45.45",
          "48.80046958",
          "45.15040814",
          "48.34039431",
          "50.95041587",
          "49.90037661",
          "49.1203467",
          "16.24147504",
          "16.23039044",
          "-21.03351072",
          "-12.78708901",
          "49.43040529",
          "47.33040428",
          "47.75040448",
          "43.71501772",
          "49.25039044",
          "48.68368085",
          "47.90042116",
          "49.50497438",
          "50.64996909",
          "34.53333333",
          "32.8",
          "35.11666667",
          "-1.416666667",
          "28.58333333",
          "46.45",
          "32.05",
          "59.95",
          "8.966666667",
          "5.75",
          "-31.95",
          "50.41666667",
          "40.83333333",
          "48.856578",
          "43.61995892",
          "45.82997906",
          "54.96666667",
          "5.159980895",
          "46.16665102",
          "-20.87889484",
          "4.932992166",
          "48.57996625",
          "1.233333333",
          "42.66666667",
          "-12.93333333",
          "-9.416666667",
          "50.08333333",
          "16.83333333",
          "64.06666667",
          "59.93333333",
          "-18.83333333",
          "47.38037539",
          "41.9",
          "47.48000755",
          "-23.5453402",
          "45.18038047",
          "-34",
          "-37.78333333",
          "42.33333333",
          "46.58333333",
          "44.36666667",
          "-22.95",
          "-16.45",
          "-34.919392",
          "38.34517",
          "-38.95735",
          "6.244747",
          "35.66666667",
          "35.75",
          "32.95",
          "19.16666667",
          "43.16666667",
          "52.23333333",
          "-41.28333333",
          "47.35",
          "43.6",
          "48.39044293",
          "45.43333333",
          "-33.045944",
          "42.35",
          "32.78333333",
          "42.91666667",
          "25.671389",
          "51.01666667",
          "32.43333333",
          "38.35",
          "44.8",
          "10.5",
          "42.66666667",
          "35.08333333",
          "35.18333333",
          "61.21666667",
          "33.75",
          "30.26666667",
          "44.78333333",
          "39.3",
          "33.5",
          "46.8",
          "35.23333333",
          "41.15",
          "41.46666667",
          "34",
          "40",
          "39.75",
          "41.58333333",
          "32.76666667",
          "39.13333333",
          "42.51666667",
          "46.81666667",
          "44.9",
          "53.56666667",
          "32.63333333",
          "31.76666667",
          "44.05",
          "46.86666667",
          "35.21666667",
          "32.71666667",
          "36.73333333",
          "39.08333333",
          "42.96666667",
          "48.55",
          "21.3",
          "34.51666667",
          "29.75",
          "43.5",
          "39.76666667",
          "32.33333333",
          "30.36666667",
          "58.3",
          "39.1",
          "24.55",
          "44.25",
          "42.16666667",
          "35.95",
          "36.16666667",
          "46.4",
          "40.83333333",
          "43.03333333",
          "33.76666667",
          "34.05",
          "38.25",
          "43",
          "35.15",
          "25.76666667",
          "43.03333333",
          "44.98333333",
          "30.7",
          "32.35",
          "44.25",
          "36.16666667",
          "50.61666667",
          "49.5",
          "40.73333333",
          "41.31666667",
          "29.95",
          "64.41666667",
          "37.8",
          "35.43333333",
          "41.25",
          "39.95",
          "33.48333333",
          "45.5",
          "40.78333333",
          "40.45",
          "43.66666667",
          "45.51666667",
          "41.83333333",
          "46.81666667",
          "35.76666667",
          "39.5",
          "38.76666667",
          "37.55",
          "37.28333333",
          "38.58333333",
          "45.3",
          "38.58333333",
          "40.76666667",
          "29.38333333",
          "32.7",
          "37.78333333",
          "37.33333333",
          "18.5",
          "35.68333333",
          "32.08333333",
          "32.46666667",
          "43.55",
          "57.16666667",
          "47.66666667",
          "39.8",
          "42.1",
          "47.61666667",
          "37.21666667",
          "43.03333333",
          "27.95",
          "41.65",
          "36.15",
          "49.21666667",
          "48.41666667",
          "36.85",
          "43.66666667",
          "37.71666667",
          "34.23333333",
          "37.383333",
          "49.9",
          "39.466667",
          "-32.95",
          "-32.883333",
          "40.43333333",
          "41.38333333",
          "19.43333333",
          "20.666111",
          "-12.035",
          "43.262222",
          "48.23333333",
          "31.16666667",
          "4.6304949",
          "-33.453214",
          "-34.6050499",
          "-36.833333",
          "44.411111",
          "47.066667",
          "41.65",
          "47.266667",
          "38.88333333",
          "47.217222",
          "59.28333333",
          "48.114167",
          "39.91666667",
          "51.53333333"
         ],
         "legendgroup": "",
         "lon": [
          "-2.15",
          "138.6",
          "3",
          "32.91666667",
          "-48.48333333",
          "-57.66666667",
          "23.71666667",
          "174.75",
          "100.5",
          "-75.71666667",
          "-5.933333333",
          "20.53333333",
          "-2.783303265",
          "0.333276529",
          "-87.61666667",
          "6.116670287",
          "4.066666218",
          "-52.33002059",
          "-52.95998214",
          "-1.561594891",
          "5.449992634",
          "2.899967406",
          "0.083343464",
          "3.080008096",
          "4.883333333",
          "-1.98",
          "-1.916666667",
          "72.8",
          "8.816666667",
          "153.1333333",
          "-2.583333333",
          "4.366666667",
          "26.11666667",
          "19.08333333",
          "31.35",
          "88.4",
          "113.25",
          "18.36666667",
          "-0.5166666667",
          "2.666648314",
          "13.41666667",
          "2.783333698",
          "-51.81000065",
          "4.380032103",
          "-61.08002914",
          "-54.03253459",
          "-53.21999211",
          "-1.649987428",
          "-0.349989259",
          "6.03000891",
          "-52.3",
          "-106.0833333",
          "106.5666667",
          "12.56666667",
          "-64.16666667",
          "-17.46666667",
          "130.85",
          "43.05",
          "-6.25",
          "30.88333333",
          "8.683333333",
          "-58.25",
          "-90.51666667",
          "-3.166666667",
          "-4.25",
          "-3.366575156",
          "0.633335733",
          "8.728293822",
          "9.450006875",
          "5.918821566",
          "3.209974323",
          "0.099983275",
          "-79.93333333",
          "10.03333333",
          "23.63333333",
          "-82.38333333",
          "25",
          "147.3166667",
          "114.1833333",
          "-70.11666667",
          "104.3333333",
          "106.8",
          "28.06666667",
          "-76.81666667",
          "15.28333333",
          "101.7",
          "4.350008096",
          "3.416680052",
          "3.166669473",
          "3.566593382",
          "3.869985716",
          "120.95",
          "4.833333333",
          "1.083334105",
          "-1.5",
          "-3",
          "-9.15",
          "-2.25",
          "-106.4166667",
          "39.75",
          "-56.16666667",
          "37.6",
          "11.58333333",
          "5.333333333",
          "2.399997923",
          "9.166666667",
          "2.133347533",
          "1.533332477",
          "4.083357705",
          "1.833314167",
          "2.300004027",
          "6.180025593",
          "-61.5329989",
          "-61.43998132",
          "55.71281612",
          "45.27500362",
          "1.079975137",
          "5.030018268",
          "7.34998002",
          "7.265023965",
          "4.029975951",
          "6.200024372",
          "1.900028441",
          "0.104970051",
          "3.080008096",
          "135.5",
          "129.95",
          "136.9333333",
          "36.91666667",
          "77.2",
          "30.8",
          "118.8833333",
          "10.7",
          "-79.53333333",
          "-55.25",
          "115.8666667",
          "-4.083333333",
          "14.25",
          "2.351828",
          "1.449926716",
          "1.249990599",
          "-1.616666667",
          "-52.64994938",
          "-1.149992108",
          "55.44807776",
          "-52.33002059",
          "7.750007282",
          "103.9166667",
          "23.33333333",
          "-38.45",
          "147.1333333",
          "14.43333333",
          "96",
          "-21.96666667",
          "30.3",
          "47.55",
          "0.699946654",
          "12.45",
          "-0.530029949",
          "-46.6363621",
          "5.720001992",
          "151",
          "144.9666667",
          "-83.05",
          "-112.0333333",
          "-100.35",
          "-43.2",
          "-68.36666667",
          "-57.953772",
          "-0.48149",
          "-68.045533",
          "-75.574828",
          "139.75",
          "51.75",
          "13.2",
          "-96.16666667",
          "132",
          "21",
          "174.7833333",
          "8.516666667",
          "-116.2166667",
          "-4.49500757",
          "12.33333333",
          "-71.616361",
          "-71.08333333",
          "-79.93333333",
          "-78.83333333",
          "-100.308611",
          "-114.0166667",
          "-104.25",
          "-81.63333333",
          "-68.78333333",
          "-66.933333",
          "-73.75",
          "-106.65",
          "-101.8333333",
          "-149.9",
          "-84.38333333",
          "-97.73333333",
          "-117.8333333",
          "-76.63333333",
          "-86.83333333",
          "-100.7833333",
          "-80.83333333",
          "-104.8666667",
          "-81.61666667",
          "-81.03333333",
          "-83.01666667",
          "-105",
          "-93.61666667",
          "-96.76666667",
          "-84.5",
          "-90.66666667",
          "-92.08333333",
          "-67",
          "-113.4666667",
          "-115.55",
          "-106.4833333",
          "-123.0833333",
          "-96.8",
          "-111.6833333",
          "-97.31666667",
          "-119.8",
          "-108.55",
          "-85.66666667",
          "-109.7166667",
          "-157.8333333",
          "-93.05",
          "-95.35",
          "-112.0166667",
          "-86.16666667",
          "-90.2",
          "-81.66666667",
          "-134.4",
          "-94.58333333",
          "-81.8",
          "-76.5",
          "-121.7333333",
          "-83.93333333",
          "-115.2",
          "-117.0333333",
          "-96.66666667",
          "-81.56666667",
          "-118.1833333",
          "-118.25",
          "-85.76666667",
          "-71.5",
          "-90.05",
          "-80.2",
          "-87.91666667",
          "-93.23333333",
          "-88.05",
          "-86.3",
          "-72.53333333",
          "-86.78333333",
          "-105.5166667",
          "-117.2833333",
          "-74.16666667",
          "-72.91666667",
          "-90.06666667",
          "-165.5",
          "-122.2666667",
          "-97.46666667",
          "-95.93333333",
          "-75.16666667",
          "-112.0666667",
          "-73.58333333",
          "-73.96666667",
          "-79.95",
          "-70.25",
          "-122.6833333",
          "-71.4",
          "-71.18333333",
          "-78.65",
          "-119.8166667",
          "-112.0833333",
          "-77.48333333",
          "-79.95",
          "-121.5",
          "-66.16666667",
          "-90.2",
          "-111.9",
          "-98.55",
          "-117.1666667",
          "-122.4333333",
          "-121.8833333",
          "-66.16666667",
          "-105.95",
          "-81.08333333",
          "-93.7",
          "-96.73333333",
          "-135.25",
          "-117.4333333",
          "-89.63333333",
          "-72.56666667",
          "-122.3333333",
          "-93.28333333",
          "-76.13333333",
          "-82.45",
          "-83.55",
          "-95.98333333",
          "-123.1",
          "-123.35",
          "-75.96666667",
          "-79.4",
          "-97.28333333",
          "-77.95",
          "-5.983333",
          "-97.11666667",
          "-0.375",
          "-60.65",
          "-68.833333",
          "-3.7",
          "2.15",
          "-99.11666667",
          "-103.351944",
          "-77.018611",
          "-2.953333",
          "16.33333333",
          "121.4666667",
          "-74.0904236",
          "-70.6544495",
          "-58.4122003",
          "-73.05",
          "8.932778",
          "15.433333",
          "-0.883333",
          "11.383333",
          "-77.03333333",
          "-1.553889",
          "18.05",
          "-1.680833",
          "116.4166667",
          "-0.08333333333"
         ],
         "marker": {
          "color": "#636efa",
          "symbol": "circle"
         },
         "mode": "markers",
         "name": "",
         "showlegend": false,
         "type": "scattergeo"
        }
       ],
       "layout": {
        "geo": {
         "center": {},
         "domain": {
          "x": [
           0,
           1
          ],
          "y": [
           0,
           1
          ]
         },
         "projection": {
          "type": "natural earth"
         }
        },
        "legend": {
         "tracegroupgap": 0
        },
        "template": {
         "data": {
          "bar": [
           {
            "error_x": {
             "color": "#2a3f5f"
            },
            "error_y": {
             "color": "#2a3f5f"
            },
            "marker": {
             "line": {
              "color": "#E5ECF6",
              "width": 0.5
             },
             "pattern": {
              "fillmode": "overlay",
              "size": 10,
              "solidity": 0.2
             }
            },
            "type": "bar"
           }
          ],
          "barpolar": [
           {
            "marker": {
             "line": {
              "color": "#E5ECF6",
              "width": 0.5
             },
             "pattern": {
              "fillmode": "overlay",
              "size": 10,
              "solidity": 0.2
             }
            },
            "type": "barpolar"
           }
          ],
          "carpet": [
           {
            "aaxis": {
             "endlinecolor": "#2a3f5f",
             "gridcolor": "white",
             "linecolor": "white",
             "minorgridcolor": "white",
             "startlinecolor": "#2a3f5f"
            },
            "baxis": {
             "endlinecolor": "#2a3f5f",
             "gridcolor": "white",
             "linecolor": "white",
             "minorgridcolor": "white",
             "startlinecolor": "#2a3f5f"
            },
            "type": "carpet"
           }
          ],
          "choropleth": [
           {
            "colorbar": {
             "outlinewidth": 0,
             "ticks": ""
            },
            "type": "choropleth"
           }
          ],
          "contour": [
           {
            "colorbar": {
             "outlinewidth": 0,
             "ticks": ""
            },
            "colorscale": [
             [
              0,
              "#0d0887"
             ],
             [
              0.1111111111111111,
              "#46039f"
             ],
             [
              0.2222222222222222,
              "#7201a8"
             ],
             [
              0.3333333333333333,
              "#9c179e"
             ],
             [
              0.4444444444444444,
              "#bd3786"
             ],
             [
              0.5555555555555556,
              "#d8576b"
             ],
             [
              0.6666666666666666,
              "#ed7953"
             ],
             [
              0.7777777777777778,
              "#fb9f3a"
             ],
             [
              0.8888888888888888,
              "#fdca26"
             ],
             [
              1,
              "#f0f921"
             ]
            ],
            "type": "contour"
           }
          ],
          "contourcarpet": [
           {
            "colorbar": {
             "outlinewidth": 0,
             "ticks": ""
            },
            "type": "contourcarpet"
           }
          ],
          "heatmap": [
           {
            "colorbar": {
             "outlinewidth": 0,
             "ticks": ""
            },
            "colorscale": [
             [
              0,
              "#0d0887"
             ],
             [
              0.1111111111111111,
              "#46039f"
             ],
             [
              0.2222222222222222,
              "#7201a8"
             ],
             [
              0.3333333333333333,
              "#9c179e"
             ],
             [
              0.4444444444444444,
              "#bd3786"
             ],
             [
              0.5555555555555556,
              "#d8576b"
             ],
             [
              0.6666666666666666,
              "#ed7953"
             ],
             [
              0.7777777777777778,
              "#fb9f3a"
             ],
             [
              0.8888888888888888,
              "#fdca26"
             ],
             [
              1,
              "#f0f921"
             ]
            ],
            "type": "heatmap"
           }
          ],
          "histogram": [
           {
            "marker": {
             "pattern": {
              "fillmode": "overlay",
              "size": 10,
              "solidity": 0.2
             }
            },
            "type": "histogram"
           }
          ],
          "histogram2d": [
           {
            "colorbar": {
             "outlinewidth": 0,
             "ticks": ""
            },
            "colorscale": [
             [
              0,
              "#0d0887"
             ],
             [
              0.1111111111111111,
              "#46039f"
             ],
             [
              0.2222222222222222,
              "#7201a8"
             ],
             [
              0.3333333333333333,
              "#9c179e"
             ],
             [
              0.4444444444444444,
              "#bd3786"
             ],
             [
              0.5555555555555556,
              "#d8576b"
             ],
             [
              0.6666666666666666,
              "#ed7953"
             ],
             [
              0.7777777777777778,
              "#fb9f3a"
             ],
             [
              0.8888888888888888,
              "#fdca26"
             ],
             [
              1,
              "#f0f921"
             ]
            ],
            "type": "histogram2d"
           }
          ],
          "histogram2dcontour": [
           {
            "colorbar": {
             "outlinewidth": 0,
             "ticks": ""
            },
            "colorscale": [
             [
              0,
              "#0d0887"
             ],
             [
              0.1111111111111111,
              "#46039f"
             ],
             [
              0.2222222222222222,
              "#7201a8"
             ],
             [
              0.3333333333333333,
              "#9c179e"
             ],
             [
              0.4444444444444444,
              "#bd3786"
             ],
             [
              0.5555555555555556,
              "#d8576b"
             ],
             [
              0.6666666666666666,
              "#ed7953"
             ],
             [
              0.7777777777777778,
              "#fb9f3a"
             ],
             [
              0.8888888888888888,
              "#fdca26"
             ],
             [
              1,
              "#f0f921"
             ]
            ],
            "type": "histogram2dcontour"
           }
          ],
          "mesh3d": [
           {
            "colorbar": {
             "outlinewidth": 0,
             "ticks": ""
            },
            "type": "mesh3d"
           }
          ],
          "parcoords": [
           {
            "line": {
             "colorbar": {
              "outlinewidth": 0,
              "ticks": ""
             }
            },
            "type": "parcoords"
           }
          ],
          "pie": [
           {
            "automargin": true,
            "type": "pie"
           }
          ],
          "scatter": [
           {
            "fillpattern": {
             "fillmode": "overlay",
             "size": 10,
             "solidity": 0.2
            },
            "type": "scatter"
           }
          ],
          "scatter3d": [
           {
            "line": {
             "colorbar": {
              "outlinewidth": 0,
              "ticks": ""
             }
            },
            "marker": {
             "colorbar": {
              "outlinewidth": 0,
              "ticks": ""
             }
            },
            "type": "scatter3d"
           }
          ],
          "scattercarpet": [
           {
            "marker": {
             "colorbar": {
              "outlinewidth": 0,
              "ticks": ""
             }
            },
            "type": "scattercarpet"
           }
          ],
          "scattergeo": [
           {
            "marker": {
             "colorbar": {
              "outlinewidth": 0,
              "ticks": ""
             }
            },
            "type": "scattergeo"
           }
          ],
          "scattergl": [
           {
            "marker": {
             "colorbar": {
              "outlinewidth": 0,
              "ticks": ""
             }
            },
            "type": "scattergl"
           }
          ],
          "scattermap": [
           {
            "marker": {
             "colorbar": {
              "outlinewidth": 0,
              "ticks": ""
             }
            },
            "type": "scattermap"
           }
          ],
          "scattermapbox": [
           {
            "marker": {
             "colorbar": {
              "outlinewidth": 0,
              "ticks": ""
             }
            },
            "type": "scattermapbox"
           }
          ],
          "scatterpolar": [
           {
            "marker": {
             "colorbar": {
              "outlinewidth": 0,
              "ticks": ""
             }
            },
            "type": "scatterpolar"
           }
          ],
          "scatterpolargl": [
           {
            "marker": {
             "colorbar": {
              "outlinewidth": 0,
              "ticks": ""
             }
            },
            "type": "scatterpolargl"
           }
          ],
          "scatterternary": [
           {
            "marker": {
             "colorbar": {
              "outlinewidth": 0,
              "ticks": ""
             }
            },
            "type": "scatterternary"
           }
          ],
          "surface": [
           {
            "colorbar": {
             "outlinewidth": 0,
             "ticks": ""
            },
            "colorscale": [
             [
              0,
              "#0d0887"
             ],
             [
              0.1111111111111111,
              "#46039f"
             ],
             [
              0.2222222222222222,
              "#7201a8"
             ],
             [
              0.3333333333333333,
              "#9c179e"
             ],
             [
              0.4444444444444444,
              "#bd3786"
             ],
             [
              0.5555555555555556,
              "#d8576b"
             ],
             [
              0.6666666666666666,
              "#ed7953"
             ],
             [
              0.7777777777777778,
              "#fb9f3a"
             ],
             [
              0.8888888888888888,
              "#fdca26"
             ],
             [
              1,
              "#f0f921"
             ]
            ],
            "type": "surface"
           }
          ],
          "table": [
           {
            "cells": {
             "fill": {
              "color": "#EBF0F8"
             },
             "line": {
              "color": "white"
             }
            },
            "header": {
             "fill": {
              "color": "#C8D4E3"
             },
             "line": {
              "color": "white"
             }
            },
            "type": "table"
           }
          ]
         },
         "layout": {
          "annotationdefaults": {
           "arrowcolor": "#2a3f5f",
           "arrowhead": 0,
           "arrowwidth": 1
          },
          "autotypenumbers": "strict",
          "coloraxis": {
           "colorbar": {
            "outlinewidth": 0,
            "ticks": ""
           }
          },
          "colorscale": {
           "diverging": [
            [
             0,
             "#8e0152"
            ],
            [
             0.1,
             "#c51b7d"
            ],
            [
             0.2,
             "#de77ae"
            ],
            [
             0.3,
             "#f1b6da"
            ],
            [
             0.4,
             "#fde0ef"
            ],
            [
             0.5,
             "#f7f7f7"
            ],
            [
             0.6,
             "#e6f5d0"
            ],
            [
             0.7,
             "#b8e186"
            ],
            [
             0.8,
             "#7fbc41"
            ],
            [
             0.9,
             "#4d9221"
            ],
            [
             1,
             "#276419"
            ]
           ],
           "sequential": [
            [
             0,
             "#0d0887"
            ],
            [
             0.1111111111111111,
             "#46039f"
            ],
            [
             0.2222222222222222,
             "#7201a8"
            ],
            [
             0.3333333333333333,
             "#9c179e"
            ],
            [
             0.4444444444444444,
             "#bd3786"
            ],
            [
             0.5555555555555556,
             "#d8576b"
            ],
            [
             0.6666666666666666,
             "#ed7953"
            ],
            [
             0.7777777777777778,
             "#fb9f3a"
            ],
            [
             0.8888888888888888,
             "#fdca26"
            ],
            [
             1,
             "#f0f921"
            ]
           ],
           "sequentialminus": [
            [
             0,
             "#0d0887"
            ],
            [
             0.1111111111111111,
             "#46039f"
            ],
            [
             0.2222222222222222,
             "#7201a8"
            ],
            [
             0.3333333333333333,
             "#9c179e"
            ],
            [
             0.4444444444444444,
             "#bd3786"
            ],
            [
             0.5555555555555556,
             "#d8576b"
            ],
            [
             0.6666666666666666,
             "#ed7953"
            ],
            [
             0.7777777777777778,
             "#fb9f3a"
            ],
            [
             0.8888888888888888,
             "#fdca26"
            ],
            [
             1,
             "#f0f921"
            ]
           ]
          },
          "colorway": [
           "#636efa",
           "#EF553B",
           "#00cc96",
           "#ab63fa",
           "#FFA15A",
           "#19d3f3",
           "#FF6692",
           "#B6E880",
           "#FF97FF",
           "#FECB52"
          ],
          "font": {
           "color": "#2a3f5f"
          },
          "geo": {
           "bgcolor": "white",
           "lakecolor": "white",
           "landcolor": "#E5ECF6",
           "showlakes": true,
           "showland": true,
           "subunitcolor": "white"
          },
          "hoverlabel": {
           "align": "left"
          },
          "hovermode": "closest",
          "mapbox": {
           "style": "light"
          },
          "paper_bgcolor": "white",
          "plot_bgcolor": "#E5ECF6",
          "polar": {
           "angularaxis": {
            "gridcolor": "white",
            "linecolor": "white",
            "ticks": ""
           },
           "bgcolor": "#E5ECF6",
           "radialaxis": {
            "gridcolor": "white",
            "linecolor": "white",
            "ticks": ""
           }
          },
          "scene": {
           "xaxis": {
            "backgroundcolor": "#E5ECF6",
            "gridcolor": "white",
            "gridwidth": 2,
            "linecolor": "white",
            "showbackground": true,
            "ticks": "",
            "zerolinecolor": "white"
           },
           "yaxis": {
            "backgroundcolor": "#E5ECF6",
            "gridcolor": "white",
            "gridwidth": 2,
            "linecolor": "white",
            "showbackground": true,
            "ticks": "",
            "zerolinecolor": "white"
           },
           "zaxis": {
            "backgroundcolor": "#E5ECF6",
            "gridcolor": "white",
            "gridwidth": 2,
            "linecolor": "white",
            "showbackground": true,
            "ticks": "",
            "zerolinecolor": "white"
           }
          },
          "shapedefaults": {
           "line": {
            "color": "#2a3f5f"
           }
          },
          "ternary": {
           "aaxis": {
            "gridcolor": "white",
            "linecolor": "white",
            "ticks": ""
           },
           "baxis": {
            "gridcolor": "white",
            "linecolor": "white",
            "ticks": ""
           },
           "bgcolor": "#E5ECF6",
           "caxis": {
            "gridcolor": "white",
            "linecolor": "white",
            "ticks": ""
           }
          },
          "title": {
           "x": 0.05
          },
          "xaxis": {
           "automargin": true,
           "gridcolor": "white",
           "linecolor": "white",
           "ticks": "",
           "title": {
            "standoff": 15
           },
           "zerolinecolor": "white",
           "zerolinewidth": 2
          },
          "yaxis": {
           "automargin": true,
           "gridcolor": "white",
           "linecolor": "white",
           "ticks": "",
           "title": {
            "standoff": 15
           },
           "zerolinecolor": "white",
           "zerolinewidth": 2
          }
         }
        },
        "title": {
         "text": " Map"
        }
       }
      }
     },
     "metadata": {},
     "output_type": "display_data"
    },
    {
     "data": {
      "text/html": [
       "<div>\n",
       "<style scoped>\n",
       "    .dataframe tbody tr th:only-of-type {\n",
       "        vertical-align: middle;\n",
       "    }\n",
       "\n",
       "    .dataframe tbody tr th {\n",
       "        vertical-align: top;\n",
       "    }\n",
       "\n",
       "    .dataframe thead th {\n",
       "        text-align: right;\n",
       "    }\n",
       "</style>\n",
       "<table border=\"1\" class=\"dataframe\">\n",
       "  <thead>\n",
       "    <tr style=\"text-align: right;\">\n",
       "      <th></th>\n",
       "      <th>id</th>\n",
       "      <th>name</th>\n",
       "      <th>start_year</th>\n",
       "      <th>url_name</th>\n",
       "      <th>country</th>\n",
       "      <th>Long</th>\n",
       "      <th>Lat</th>\n",
       "    </tr>\n",
       "  </thead>\n",
       "  <tbody>\n",
       "    <tr>\n",
       "      <th>333</th>\n",
       "      <td>69</td>\n",
       "      <td>London</td>\n",
       "      <td>1833.0</td>\n",
       "      <td>london</td>\n",
       "      <td>England</td>\n",
       "      <td>-0.08333333333</td>\n",
       "      <td>51.53333333</td>\n",
       "    </tr>\n",
       "  </tbody>\n",
       "</table>\n",
       "</div>"
      ],
      "text/plain": [
       "     id    name  start_year url_name  country            Long          Lat\n",
       "333  69  London      1833.0   london  England  -0.08333333333  51.53333333"
      ]
     },
     "execution_count": 79,
     "metadata": {},
     "output_type": "execute_result"
    }
   ],
   "source": [
    "\n",
    "cities_df.head()\n",
    "cities_df[\"Long\"] = cities_df[\"coords\"].apply(lambda x: x.split('POINT(')[1].split(' ')[0])\n",
    "cities_df[\"Lat\"] = cities_df[\"coords\"].apply(lambda x: x.split('POINT(')[1].split(' ')[1].split(\")\")[0])\n",
    "cities_df = cities_df.drop([\"country_state\", \"coords\"], axis = 1)\n",
    "cities_df\n",
    "\n",
    "cities_df[\"start_year\"] = cities_df[\"start_year\"].fillna(0)\n",
    "cities_df.info()\n",
    "\n",
    "fig = px.scatter_geo(cities_df, \n",
    "                     lat='Lat', \n",
    "                     lon='Long',\n",
    "                     hover_name='name', \n",
    "                     projection='natural earth',\n",
    "                     title=' Map')\n",
    "fig.show()\n",
    "\n",
    "london_maybe = cities_df[cities_df[\"id\"]==69]\n",
    "london_maybe"
   ]
  },
  {
   "cell_type": "code",
   "execution_count": 80,
   "id": "5b7f533e",
   "metadata": {},
   "outputs": [
    {
     "name": "stdout",
     "output_type": "stream",
     "text": [
      "<class 'pandas.core.frame.DataFrame'>\n",
      "RangeIndex: 1343 entries, 0 to 1342\n",
      "Data columns (total 7 columns):\n",
      " #   Column             Non-Null Count  Dtype  \n",
      "---  ------             --------------  -----  \n",
      " 0   id                 1343 non-null   int64  \n",
      " 1   city_id            1343 non-null   int64  \n",
      " 2   name               1343 non-null   object \n",
      " 3   url_name           1343 non-null   object \n",
      " 4   color              1343 non-null   object \n",
      " 5   system_id          1343 non-null   int64  \n",
      " 6   transport_mode_id  926 non-null    float64\n",
      "dtypes: float64(1), int64(3), object(3)\n",
      "memory usage: 73.6+ KB\n"
     ]
    },
    {
     "data": {
      "text/html": [
       "<div>\n",
       "<style scoped>\n",
       "    .dataframe tbody tr th:only-of-type {\n",
       "        vertical-align: middle;\n",
       "    }\n",
       "\n",
       "    .dataframe tbody tr th {\n",
       "        vertical-align: top;\n",
       "    }\n",
       "\n",
       "    .dataframe thead th {\n",
       "        text-align: right;\n",
       "    }\n",
       "</style>\n",
       "<table border=\"1\" class=\"dataframe\">\n",
       "  <thead>\n",
       "    <tr style=\"text-align: right;\">\n",
       "      <th></th>\n",
       "      <th>id</th>\n",
       "      <th>city_id</th>\n",
       "      <th>name</th>\n",
       "      <th>url_name</th>\n",
       "      <th>color</th>\n",
       "      <th>system_id</th>\n",
       "      <th>transport_mode_id</th>\n",
       "    </tr>\n",
       "  </thead>\n",
       "  <tbody>\n",
       "    <tr>\n",
       "      <th>0</th>\n",
       "      <td>43</td>\n",
       "      <td>4</td>\n",
       "      <td>Línea 2</td>\n",
       "      <td>43-linea-2</td>\n",
       "      <td>#ffbe2e</td>\n",
       "      <td>267</td>\n",
       "      <td>4.0</td>\n",
       "    </tr>\n",
       "    <tr>\n",
       "      <th>1</th>\n",
       "      <td>75</td>\n",
       "      <td>34</td>\n",
       "      <td>Línea 3 Metro de Caracas</td>\n",
       "      <td>75-linea-3-metro-de-caracas</td>\n",
       "      <td>#000</td>\n",
       "      <td>119</td>\n",
       "      <td>NaN</td>\n",
       "    </tr>\n",
       "    <tr>\n",
       "      <th>2</th>\n",
       "      <td>107</td>\n",
       "      <td>126</td>\n",
       "      <td>Línea 1</td>\n",
       "      <td>107-linea-1</td>\n",
       "      <td>#434343</td>\n",
       "      <td>249</td>\n",
       "      <td>NaN</td>\n",
       "    </tr>\n",
       "    <tr>\n",
       "      <th>3</th>\n",
       "      <td>604</td>\n",
       "      <td>74</td>\n",
       "      <td>La navette</td>\n",
       "      <td>604-la-navette</td>\n",
       "      <td>#009ab9</td>\n",
       "      <td>346</td>\n",
       "      <td>NaN</td>\n",
       "    </tr>\n",
       "    <tr>\n",
       "      <th>4</th>\n",
       "      <td>61</td>\n",
       "      <td>66</td>\n",
       "      <td>Línea 1 (Tramo 1A)</td>\n",
       "      <td>61-linea-1</td>\n",
       "      <td>#49aa43</td>\n",
       "      <td>250</td>\n",
       "      <td>NaN</td>\n",
       "    </tr>\n",
       "    <tr>\n",
       "      <th>5</th>\n",
       "      <td>1471</td>\n",
       "      <td>91</td>\n",
       "      <td>Tokaido Shinkansen</td>\n",
       "      <td>1471-tokaido-shinkansen</td>\n",
       "      <td>#0000ff</td>\n",
       "      <td>551</td>\n",
       "      <td>1.0</td>\n",
       "    </tr>\n",
       "    <tr>\n",
       "      <th>6</th>\n",
       "      <td>5</td>\n",
       "      <td>1</td>\n",
       "      <td>A</td>\n",
       "      <td>a</td>\n",
       "      <td>#00b3da</td>\n",
       "      <td>254</td>\n",
       "      <td>4.0</td>\n",
       "    </tr>\n",
       "    <tr>\n",
       "      <th>7</th>\n",
       "      <td>168</td>\n",
       "      <td>261</td>\n",
       "      <td>Línea 1</td>\n",
       "      <td>168-linea-1</td>\n",
       "      <td>#f58223</td>\n",
       "      <td>256</td>\n",
       "      <td>NaN</td>\n",
       "    </tr>\n",
       "    <tr>\n",
       "      <th>8</th>\n",
       "      <td>219</td>\n",
       "      <td>110</td>\n",
       "      <td>14</td>\n",
       "      <td>219-red-line</td>\n",
       "      <td>#d0021b</td>\n",
       "      <td>257</td>\n",
       "      <td>4.0</td>\n",
       "    </tr>\n",
       "    <tr>\n",
       "      <th>9</th>\n",
       "      <td>45</td>\n",
       "      <td>4</td>\n",
       "      <td>Línea 4</td>\n",
       "      <td>45-linea-4</td>\n",
       "      <td>#292d91</td>\n",
       "      <td>267</td>\n",
       "      <td>4.0</td>\n",
       "    </tr>\n",
       "  </tbody>\n",
       "</table>\n",
       "</div>"
      ],
      "text/plain": [
       "     id  city_id                      name                     url_name  \\\n",
       "0    43        4                   Línea 2                   43-linea-2   \n",
       "1    75       34  Línea 3 Metro de Caracas  75-linea-3-metro-de-caracas   \n",
       "2   107      126                   Línea 1                  107-linea-1   \n",
       "3   604       74                La navette               604-la-navette   \n",
       "4    61       66        Línea 1 (Tramo 1A)                   61-linea-1   \n",
       "5  1471       91        Tokaido Shinkansen      1471-tokaido-shinkansen   \n",
       "6     5        1                         A                            a   \n",
       "7   168      261                   Línea 1                  168-linea-1   \n",
       "8   219      110                        14                 219-red-line   \n",
       "9    45        4                   Línea 4                   45-linea-4   \n",
       "\n",
       "     color  system_id  transport_mode_id  \n",
       "0  #ffbe2e        267                4.0  \n",
       "1     #000        119                NaN  \n",
       "2  #434343        249                NaN  \n",
       "3  #009ab9        346                NaN  \n",
       "4  #49aa43        250                NaN  \n",
       "5  #0000ff        551                1.0  \n",
       "6  #00b3da        254                4.0  \n",
       "7  #f58223        256                NaN  \n",
       "8  #d0021b        257                4.0  \n",
       "9  #292d91        267                4.0  "
      ]
     },
     "execution_count": 80,
     "metadata": {},
     "output_type": "execute_result"
    }
   ],
   "source": [
    "lines_df.info()\n",
    "lines_df.head(10)\n"
   ]
  },
  {
   "cell_type": "code",
   "execution_count": 81,
   "id": "a39da714",
   "metadata": {},
   "outputs": [
    {
     "name": "stdout",
     "output_type": "stream",
     "text": [
      "<class 'pandas.core.frame.DataFrame'>\n",
      "RangeIndex: 16242 entries, 0 to 16241\n",
      "Data columns (total 6 columns):\n",
      " #   Column      Non-Null Count  Dtype \n",
      "---  ------      --------------  ----- \n",
      " 0   id          16242 non-null  int64 \n",
      " 1   station_id  16242 non-null  int64 \n",
      " 2   line_id     16242 non-null  int64 \n",
      " 3   city_id     16242 non-null  int64 \n",
      " 4   created_at  16242 non-null  object\n",
      " 5   updated_at  16242 non-null  object\n",
      "dtypes: int64(4), object(2)\n",
      "memory usage: 761.5+ KB\n"
     ]
    },
    {
     "data": {
      "text/html": [
       "<div>\n",
       "<style scoped>\n",
       "    .dataframe tbody tr th:only-of-type {\n",
       "        vertical-align: middle;\n",
       "    }\n",
       "\n",
       "    .dataframe tbody tr th {\n",
       "        vertical-align: top;\n",
       "    }\n",
       "\n",
       "    .dataframe thead th {\n",
       "        text-align: right;\n",
       "    }\n",
       "</style>\n",
       "<table border=\"1\" class=\"dataframe\">\n",
       "  <thead>\n",
       "    <tr style=\"text-align: right;\">\n",
       "      <th></th>\n",
       "      <th>id</th>\n",
       "      <th>station_id</th>\n",
       "      <th>line_id</th>\n",
       "      <th>city_id</th>\n",
       "      <th>created_at</th>\n",
       "      <th>updated_at</th>\n",
       "    </tr>\n",
       "  </thead>\n",
       "  <tbody>\n",
       "    <tr>\n",
       "      <th>464</th>\n",
       "      <td>524</td>\n",
       "      <td>940</td>\n",
       "      <td>146</td>\n",
       "      <td>69</td>\n",
       "      <td>2017-11-21 00:00:00</td>\n",
       "      <td>2017-11-21 00:00:00</td>\n",
       "    </tr>\n",
       "    <tr>\n",
       "      <th>659</th>\n",
       "      <td>721</td>\n",
       "      <td>1226</td>\n",
       "      <td>139</td>\n",
       "      <td>69</td>\n",
       "      <td>2017-11-21 00:00:00</td>\n",
       "      <td>2017-11-21 00:00:00</td>\n",
       "    </tr>\n",
       "    <tr>\n",
       "      <th>739</th>\n",
       "      <td>803</td>\n",
       "      <td>1204</td>\n",
       "      <td>139</td>\n",
       "      <td>69</td>\n",
       "      <td>2017-11-21 00:00:00</td>\n",
       "      <td>2017-11-21 00:00:00</td>\n",
       "    </tr>\n",
       "    <tr>\n",
       "      <th>761</th>\n",
       "      <td>825</td>\n",
       "      <td>1205</td>\n",
       "      <td>139</td>\n",
       "      <td>69</td>\n",
       "      <td>2017-11-21 00:00:00</td>\n",
       "      <td>2017-11-21 00:00:00</td>\n",
       "    </tr>\n",
       "    <tr>\n",
       "      <th>784</th>\n",
       "      <td>848</td>\n",
       "      <td>1299</td>\n",
       "      <td>160</td>\n",
       "      <td>69</td>\n",
       "      <td>2017-11-21 00:00:00</td>\n",
       "      <td>2017-11-21 00:00:00</td>\n",
       "    </tr>\n",
       "    <tr>\n",
       "      <th>...</th>\n",
       "      <td>...</td>\n",
       "      <td>...</td>\n",
       "      <td>...</td>\n",
       "      <td>...</td>\n",
       "      <td>...</td>\n",
       "      <td>...</td>\n",
       "    </tr>\n",
       "    <tr>\n",
       "      <th>16040</th>\n",
       "      <td>16556</td>\n",
       "      <td>16226</td>\n",
       "      <td>172</td>\n",
       "      <td>69</td>\n",
       "      <td>2019-02-14 23:22:14.115157</td>\n",
       "      <td>2019-02-14 23:22:14.115157</td>\n",
       "    </tr>\n",
       "    <tr>\n",
       "      <th>16041</th>\n",
       "      <td>16557</td>\n",
       "      <td>16227</td>\n",
       "      <td>172</td>\n",
       "      <td>69</td>\n",
       "      <td>2019-02-14 23:23:08.891678</td>\n",
       "      <td>2019-02-14 23:23:08.891678</td>\n",
       "    </tr>\n",
       "    <tr>\n",
       "      <th>16042</th>\n",
       "      <td>16558</td>\n",
       "      <td>16228</td>\n",
       "      <td>211</td>\n",
       "      <td>69</td>\n",
       "      <td>2019-02-14 23:23:08.911125</td>\n",
       "      <td>2019-02-14 23:23:08.911125</td>\n",
       "    </tr>\n",
       "    <tr>\n",
       "      <th>16043</th>\n",
       "      <td>16559</td>\n",
       "      <td>16229</td>\n",
       "      <td>214</td>\n",
       "      <td>69</td>\n",
       "      <td>2019-02-14 23:23:38.160309</td>\n",
       "      <td>2019-02-14 23:23:38.160309</td>\n",
       "    </tr>\n",
       "    <tr>\n",
       "      <th>16044</th>\n",
       "      <td>16560</td>\n",
       "      <td>16230</td>\n",
       "      <td>202</td>\n",
       "      <td>69</td>\n",
       "      <td>2019-02-14 23:24:05.067605</td>\n",
       "      <td>2019-02-14 23:24:05.067605</td>\n",
       "    </tr>\n",
       "  </tbody>\n",
       "</table>\n",
       "<p>912 rows × 6 columns</p>\n",
       "</div>"
      ],
      "text/plain": [
       "          id  station_id  line_id  city_id                  created_at  \\\n",
       "464      524         940      146       69         2017-11-21 00:00:00   \n",
       "659      721        1226      139       69         2017-11-21 00:00:00   \n",
       "739      803        1204      139       69         2017-11-21 00:00:00   \n",
       "761      825        1205      139       69         2017-11-21 00:00:00   \n",
       "784      848        1299      160       69         2017-11-21 00:00:00   \n",
       "...      ...         ...      ...      ...                         ...   \n",
       "16040  16556       16226      172       69  2019-02-14 23:22:14.115157   \n",
       "16041  16557       16227      172       69  2019-02-14 23:23:08.891678   \n",
       "16042  16558       16228      211       69  2019-02-14 23:23:08.911125   \n",
       "16043  16559       16229      214       69  2019-02-14 23:23:38.160309   \n",
       "16044  16560       16230      202       69  2019-02-14 23:24:05.067605   \n",
       "\n",
       "                       updated_at  \n",
       "464           2017-11-21 00:00:00  \n",
       "659           2017-11-21 00:00:00  \n",
       "739           2017-11-21 00:00:00  \n",
       "761           2017-11-21 00:00:00  \n",
       "784           2017-11-21 00:00:00  \n",
       "...                           ...  \n",
       "16040  2019-02-14 23:22:14.115157  \n",
       "16041  2019-02-14 23:23:08.891678  \n",
       "16042  2019-02-14 23:23:08.911125  \n",
       "16043  2019-02-14 23:23:38.160309  \n",
       "16044  2019-02-14 23:24:05.067605  \n",
       "\n",
       "[912 rows x 6 columns]"
      ]
     },
     "execution_count": 81,
     "metadata": {},
     "output_type": "execute_result"
    }
   ],
   "source": [
    "station_lines_df.info()\n",
    "station_lines_df[station_lines_df[\"city_id\"]==69]\n"
   ]
  },
  {
   "cell_type": "markdown",
   "id": "24117b56",
   "metadata": {},
   "source": [
    "stations_tokyo_2000=stations[stations['city_id']==114][0:2000]\n",
    "Long=139.75\n",
    "Lat=35.67\n",
    "tokyo_map=folium.Map([Lat,Long],zoom_start=12)\n",
    "\n",
    "tokyo_stations_map=plugins.MarkerCluster().add_to(tokyo_map)\n",
    "for lat,lon,label in zip(stations_tokyo_2000.Lat,stations_tokyo_2000.Long,stations_tokyo_2000.stations_name):\n",
    "    folium.Marker(location=[lat,lon],icon=None,popup=label).add_to(tokyo_stations_map)\n",
    "tokyo_map.add_child(tokyo_stations_map)\n",
    "\n",
    "tokyo_map"
   ]
  },
  {
   "cell_type": "code",
   "execution_count": 82,
   "id": "2af3ac2f",
   "metadata": {},
   "outputs": [
    {
     "name": "stdout",
     "output_type": "stream",
     "text": [
      "<class 'pandas.core.frame.DataFrame'>\n",
      "RangeIndex: 15794 entries, 0 to 15793\n",
      "Data columns (total 7 columns):\n",
      " #   Column      Non-Null Count  Dtype  \n",
      "---  ------      --------------  -----  \n",
      " 0   id          15794 non-null  int64  \n",
      " 1   name        14248 non-null  object \n",
      " 2   geometry    15794 non-null  object \n",
      " 3   buildstart  14342 non-null  float64\n",
      " 4   opening     15721 non-null  float64\n",
      " 5   closure     15713 non-null  float64\n",
      " 6   city_id     15794 non-null  int64  \n",
      "dtypes: float64(3), int64(2), object(2)\n",
      "memory usage: 863.9+ KB\n"
     ]
    }
   ],
   "source": [
    "stations_df.info()\n",
    "#stations_df.head(10)\n"
   ]
  },
  {
   "cell_type": "code",
   "execution_count": 83,
   "id": "6678d407",
   "metadata": {},
   "outputs": [],
   "source": [
    "\n",
    "\n",
    "stations_df[\"Long\"] = stations_df[\"geometry\"].apply(lambda x: x.split('POINT(')[1].split(' ')[0])\n",
    "stations_df[\"Lat\"] = stations_df[\"geometry\"].apply(lambda x: x.split('POINT(')[1].split(' ')[1].split(\")\")[0])\n",
    "London = stations_df[stations_df[\"city_id\"]==69]\n",
    "london_lat = cities_df[cities_df[\"id\"] == 69][\"Lat\"]\n",
    "london_long = cities_df[cities_df[\"id\"] == 69][\"Long\"]\n",
    "Lat = london_lat.iloc[0]\n",
    "Long = london_long.iloc[0]\n",
    "\n",
    "london_map=folium.Map([Lat,Long],zoom_start=12)\n",
    "\n",
    "# 2. Create the MarkerCluster and add it to the map\n",
    "marker_cluster = MarkerCluster().add_to(london_map)\n",
    "\n",
    "# 3. Add markers to the *MarkerCluster*\n",
    "for lat, lon, label in zip(London.Lat, London.Long, London.name):\n",
    "    folium.Marker(location=[lat, lon], popup=label).add_to(marker_cluster)\n",
    "\n",
    "#london_map\n"
   ]
  },
  {
   "cell_type": "code",
   "execution_count": 84,
   "id": "a482c66e",
   "metadata": {},
   "outputs": [
    {
     "name": "stdout",
     "output_type": "stream",
     "text": [
      "<class 'pandas.core.frame.DataFrame'>\n",
      "RangeIndex: 488 entries, 0 to 487\n",
      "Data columns (total 3 columns):\n",
      " #   Column   Non-Null Count  Dtype \n",
      "---  ------   --------------  ----- \n",
      " 0   id       488 non-null    int64 \n",
      " 1   city_id  488 non-null    int64 \n",
      " 2   name     287 non-null    object\n",
      "dtypes: int64(2), object(1)\n",
      "memory usage: 11.6+ KB\n"
     ]
    },
    {
     "data": {
      "text/html": [
       "<div>\n",
       "<style scoped>\n",
       "    .dataframe tbody tr th:only-of-type {\n",
       "        vertical-align: middle;\n",
       "    }\n",
       "\n",
       "    .dataframe tbody tr th {\n",
       "        vertical-align: top;\n",
       "    }\n",
       "\n",
       "    .dataframe thead th {\n",
       "        text-align: right;\n",
       "    }\n",
       "</style>\n",
       "<table border=\"1\" class=\"dataframe\">\n",
       "  <thead>\n",
       "    <tr style=\"text-align: right;\">\n",
       "      <th></th>\n",
       "      <th>id</th>\n",
       "      <th>city_id</th>\n",
       "      <th>name</th>\n",
       "    </tr>\n",
       "  </thead>\n",
       "  <tbody>\n",
       "    <tr>\n",
       "      <th>232</th>\n",
       "      <td>261</td>\n",
       "      <td>69</td>\n",
       "      <td>National Rail</td>\n",
       "    </tr>\n",
       "    <tr>\n",
       "      <th>233</th>\n",
       "      <td>262</td>\n",
       "      <td>69</td>\n",
       "      <td>London Overground</td>\n",
       "    </tr>\n",
       "    <tr>\n",
       "      <th>234</th>\n",
       "      <td>259</td>\n",
       "      <td>69</td>\n",
       "      <td>London Underground</td>\n",
       "    </tr>\n",
       "    <tr>\n",
       "      <th>235</th>\n",
       "      <td>263</td>\n",
       "      <td>69</td>\n",
       "      <td>Other</td>\n",
       "    </tr>\n",
       "  </tbody>\n",
       "</table>\n",
       "</div>"
      ],
      "text/plain": [
       "      id  city_id                name\n",
       "232  261       69       National Rail\n",
       "233  262       69   London Overground\n",
       "234  259       69  London Underground\n",
       "235  263       69               Other"
      ]
     },
     "execution_count": 84,
     "metadata": {},
     "output_type": "execute_result"
    }
   ],
   "source": [
    "systems_df.info()\n",
    "systems_df[systems_df[\"city_id\"]==69]\n"
   ]
  },
  {
   "cell_type": "code",
   "execution_count": 85,
   "id": "57ec666b",
   "metadata": {},
   "outputs": [
    {
     "name": "stdout",
     "output_type": "stream",
     "text": [
      "<class 'pandas.core.frame.DataFrame'>\n",
      "RangeIndex: 9757 entries, 0 to 9756\n",
      "Data columns (total 6 columns):\n",
      " #   Column      Non-Null Count  Dtype \n",
      "---  ------      --------------  ----- \n",
      " 0   id          9757 non-null   int64 \n",
      " 1   section_id  9757 non-null   int64 \n",
      " 2   line_id     9757 non-null   int64 \n",
      " 3   created_at  9757 non-null   object\n",
      " 4   updated_at  9757 non-null   object\n",
      " 5   city_id     9757 non-null   int64 \n",
      "dtypes: int64(4), object(2)\n",
      "memory usage: 457.5+ KB\n"
     ]
    },
    {
     "data": {
      "text/html": [
       "<div>\n",
       "<style scoped>\n",
       "    .dataframe tbody tr th:only-of-type {\n",
       "        vertical-align: middle;\n",
       "    }\n",
       "\n",
       "    .dataframe tbody tr th {\n",
       "        vertical-align: top;\n",
       "    }\n",
       "\n",
       "    .dataframe thead th {\n",
       "        text-align: right;\n",
       "    }\n",
       "</style>\n",
       "<table border=\"1\" class=\"dataframe\">\n",
       "  <thead>\n",
       "    <tr style=\"text-align: right;\">\n",
       "      <th></th>\n",
       "      <th>id</th>\n",
       "      <th>section_id</th>\n",
       "      <th>line_id</th>\n",
       "      <th>created_at</th>\n",
       "      <th>updated_at</th>\n",
       "      <th>city_id</th>\n",
       "    </tr>\n",
       "  </thead>\n",
       "  <tbody>\n",
       "    <tr>\n",
       "      <th>2536</th>\n",
       "      <td>2499</td>\n",
       "      <td>917</td>\n",
       "      <td>224</td>\n",
       "      <td>2017-11-21 00:00:00</td>\n",
       "      <td>2017-11-21 00:00:00</td>\n",
       "      <td>69</td>\n",
       "    </tr>\n",
       "    <tr>\n",
       "      <th>2537</th>\n",
       "      <td>2500</td>\n",
       "      <td>921</td>\n",
       "      <td>172</td>\n",
       "      <td>2017-11-21 00:00:00</td>\n",
       "      <td>2017-11-21 00:00:00</td>\n",
       "      <td>69</td>\n",
       "    </tr>\n",
       "    <tr>\n",
       "      <th>2538</th>\n",
       "      <td>2501</td>\n",
       "      <td>918</td>\n",
       "      <td>209</td>\n",
       "      <td>2017-11-21 00:00:00</td>\n",
       "      <td>2017-11-21 00:00:00</td>\n",
       "      <td>69</td>\n",
       "    </tr>\n",
       "    <tr>\n",
       "      <th>2539</th>\n",
       "      <td>2503</td>\n",
       "      <td>920</td>\n",
       "      <td>171</td>\n",
       "      <td>2017-11-21 00:00:00</td>\n",
       "      <td>2017-11-21 00:00:00</td>\n",
       "      <td>69</td>\n",
       "    </tr>\n",
       "    <tr>\n",
       "      <th>2540</th>\n",
       "      <td>2504</td>\n",
       "      <td>919</td>\n",
       "      <td>171</td>\n",
       "      <td>2017-11-21 00:00:00</td>\n",
       "      <td>2017-11-21 00:00:00</td>\n",
       "      <td>69</td>\n",
       "    </tr>\n",
       "    <tr>\n",
       "      <th>...</th>\n",
       "      <td>...</td>\n",
       "      <td>...</td>\n",
       "      <td>...</td>\n",
       "      <td>...</td>\n",
       "      <td>...</td>\n",
       "      <td>...</td>\n",
       "    </tr>\n",
       "    <tr>\n",
       "      <th>6470</th>\n",
       "      <td>2476</td>\n",
       "      <td>916</td>\n",
       "      <td>224</td>\n",
       "      <td>2017-11-21 00:00:00</td>\n",
       "      <td>2017-11-21 00:00:00</td>\n",
       "      <td>69</td>\n",
       "    </tr>\n",
       "    <tr>\n",
       "      <th>6471</th>\n",
       "      <td>2477</td>\n",
       "      <td>922</td>\n",
       "      <td>172</td>\n",
       "      <td>2017-11-21 00:00:00</td>\n",
       "      <td>2017-11-21 00:00:00</td>\n",
       "      <td>69</td>\n",
       "    </tr>\n",
       "    <tr>\n",
       "      <th>6472</th>\n",
       "      <td>2478</td>\n",
       "      <td>923</td>\n",
       "      <td>172</td>\n",
       "      <td>2017-11-21 00:00:00</td>\n",
       "      <td>2017-11-21 00:00:00</td>\n",
       "      <td>69</td>\n",
       "    </tr>\n",
       "    <tr>\n",
       "      <th>7117</th>\n",
       "      <td>3662</td>\n",
       "      <td>517</td>\n",
       "      <td>162</td>\n",
       "      <td>2017-11-21 00:00:00</td>\n",
       "      <td>2017-11-21 00:00:00</td>\n",
       "      <td>69</td>\n",
       "    </tr>\n",
       "    <tr>\n",
       "      <th>9019</th>\n",
       "      <td>9911</td>\n",
       "      <td>836</td>\n",
       "      <td>215</td>\n",
       "      <td>2019-02-14 23:25:31.824735</td>\n",
       "      <td>2019-02-14 23:25:31.824735</td>\n",
       "      <td>69</td>\n",
       "    </tr>\n",
       "  </tbody>\n",
       "</table>\n",
       "<p>360 rows × 6 columns</p>\n",
       "</div>"
      ],
      "text/plain": [
       "        id  section_id  line_id                  created_at  \\\n",
       "2536  2499         917      224         2017-11-21 00:00:00   \n",
       "2537  2500         921      172         2017-11-21 00:00:00   \n",
       "2538  2501         918      209         2017-11-21 00:00:00   \n",
       "2539  2503         920      171         2017-11-21 00:00:00   \n",
       "2540  2504         919      171         2017-11-21 00:00:00   \n",
       "...    ...         ...      ...                         ...   \n",
       "6470  2476         916      224         2017-11-21 00:00:00   \n",
       "6471  2477         922      172         2017-11-21 00:00:00   \n",
       "6472  2478         923      172         2017-11-21 00:00:00   \n",
       "7117  3662         517      162         2017-11-21 00:00:00   \n",
       "9019  9911         836      215  2019-02-14 23:25:31.824735   \n",
       "\n",
       "                      updated_at  city_id  \n",
       "2536         2017-11-21 00:00:00       69  \n",
       "2537         2017-11-21 00:00:00       69  \n",
       "2538         2017-11-21 00:00:00       69  \n",
       "2539         2017-11-21 00:00:00       69  \n",
       "2540         2017-11-21 00:00:00       69  \n",
       "...                          ...      ...  \n",
       "6470         2017-11-21 00:00:00       69  \n",
       "6471         2017-11-21 00:00:00       69  \n",
       "6472         2017-11-21 00:00:00       69  \n",
       "7117         2017-11-21 00:00:00       69  \n",
       "9019  2019-02-14 23:25:31.824735       69  \n",
       "\n",
       "[360 rows x 6 columns]"
      ]
     },
     "execution_count": 85,
     "metadata": {},
     "output_type": "execute_result"
    }
   ],
   "source": [
    "track_lines_df.info()\n",
    "track_lines_df[track_lines_df['city_id']==69]"
   ]
  },
  {
   "cell_type": "code",
   "execution_count": 100,
   "id": "811202af",
   "metadata": {},
   "outputs": [
    {
     "name": "stdout",
     "output_type": "stream",
     "text": [
      "<class 'pandas.core.frame.DataFrame'>\n",
      "RangeIndex: 9271 entries, 0 to 9270\n",
      "Data columns (total 8 columns):\n",
      " #   Column         Non-Null Count  Dtype  \n",
      "---  ------         --------------  -----  \n",
      " 0   id             9271 non-null   int64  \n",
      " 1   geometry       9271 non-null   object \n",
      " 2   buildstart     7663 non-null   float64\n",
      " 3   opening        9250 non-null   float64\n",
      " 4   closure        9240 non-null   float64\n",
      " 5   length         9271 non-null   int64  \n",
      " 6   city_id        9271 non-null   int64  \n",
      " 7   Lat Long List  9271 non-null   object \n",
      "dtypes: float64(3), int64(3), object(2)\n",
      "memory usage: 579.6+ KB\n"
     ]
    },
    {
     "data": {
      "text/plain": [
       "0    [[19.0817752, 47.5005079], [19.0817355, 47.500...\n",
       "1    [[16.4151057, 48.1907238], [16.4156455, 48.190...\n",
       "2    [[16.4164437, 48.1839655], [16.4161534, 48.183...\n",
       "3    [[16.4164901, 48.1839473], [16.416198, 48.1836...\n",
       "4    [[16.415259, 48.1908074], [16.4153634, 48.1907...\n",
       "5    [[16.4120893, 48.1927723], [16.4130719, 48.192...\n",
       "6    [[16.412035, 48.1927423], [16.4129962, 48.1921...\n",
       "7    [[16.3949694, 48.2005582], [16.3984035, 48.198...\n",
       "8    [[139.387327940585, 35.3676500392482], [139.38...\n",
       "9    [[139.407314018783, 35.3308431975794], [139.40...\n",
       "Name: Lat Long List, dtype: object"
      ]
     },
     "execution_count": 100,
     "metadata": {},
     "output_type": "execute_result"
    }
   ],
   "source": [
    "track_df.info()\n",
    "track_df.head(10)\n",
    "track_df[track_df[\"city_id\"] == 69]\n",
    "track_df[\"geometry\"][0]\n",
    "\n",
    "#track_df[\"Long\"] = track_df[\"coords\"].apply(lambda x: x.split('Line(')[1].split(' ')[0])\n",
    "#track_df[\"Lat\"] = track_df[\"coords\"].apply(lambda x: x.split('POINT(')[1].split(' ')[1].split(\")\")[0])\n",
    "\n",
    "def get_lat_long(x):\n",
    "    if x == \"LINESTRING Z EMPTY\":\n",
    "        return []\n",
    "    else:\n",
    "        x = x[:-1]\n",
    "        lat_long_string= x.split('LINESTRING(')[1]\n",
    "        lat_long_list = lat_long_string.split(\",\")\n",
    "        lst = []\n",
    "        for item in lat_long_list:\n",
    "            lst.append(item.split(\" \"))\n",
    "        return lst\n",
    "    \n",
    "\n",
    "\n",
    "track_df[\"Lat Long List\"] = track_df[\"geometry\"].apply(get_lat_long)\n",
    "\n",
    "track_df[\"Lat Long List\"].head(10)"
   ]
  }
 ],
 "metadata": {
  "kernelspec": {
   "display_name": "base",
   "language": "python",
   "name": "python3"
  },
  "language_info": {
   "codemirror_mode": {
    "name": "ipython",
    "version": 3
   },
   "file_extension": ".py",
   "mimetype": "text/x-python",
   "name": "python",
   "nbconvert_exporter": "python",
   "pygments_lexer": "ipython3",
   "version": "3.13.5"
  }
 },
 "nbformat": 4,
 "nbformat_minor": 5
}
