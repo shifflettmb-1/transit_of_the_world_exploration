{
 "cells": [
  {
   "cell_type": "code",
   "execution_count": 30,
   "id": "0681bc3c",
   "metadata": {},
   "outputs": [],
   "source": [
    "import pandas as pd\n",
    "import matplotlib.pyplot as plt\n",
    "import seaborn as sns\n",
    "import plotly.express as px\n",
    "import matplotlib.patches as mpatches\n",
    "import numpy as np\n",
    "\n",
    "cities_df = pd.read_csv('../data/cities.csv')\n",
    "lines_df = pd.read_csv('../data/lines.csv')\n",
    "station_lines_df = pd.read_csv('../data/station_lines.csv')\n",
    "stations_df = pd.read_csv('../data/stations.csv')\n",
    "systems_df= pd.read_csv('../data/systems.csv')\n",
    "track_lines_df = pd.read_csv('../data/track_lines.csv')\n",
    "track_df = pd.read_csv('../data/tracks.csv')\n",
    "\n"
   ]
  },
  {
   "cell_type": "code",
   "execution_count": null,
   "id": "93423d4e",
   "metadata": {},
   "outputs": [
    {
     "name": "stdout",
     "output_type": "stream",
     "text": [
      "<class 'pandas.core.frame.DataFrame'>\n",
      "RangeIndex: 334 entries, 0 to 333\n",
      "Data columns (total 7 columns):\n",
      " #   Column      Non-Null Count  Dtype  \n",
      "---  ------      --------------  -----  \n",
      " 0   id          334 non-null    int64  \n",
      " 1   name        334 non-null    object \n",
      " 2   start_year  334 non-null    float64\n",
      " 3   url_name    334 non-null    object \n",
      " 4   country     334 non-null    object \n",
      " 5   Long        334 non-null    object \n",
      " 6   Lat         334 non-null    object \n",
      "dtypes: float64(1), int64(1), object(5)\n",
      "memory usage: 18.4+ KB\n"
     ]
    },
    {
     "data": {
      "application/vnd.plotly.v1+json": {
       "config": {
        "plotlyServerURL": "https://plot.ly"
       },
       "data": [
        {
         "geo": "geo",
         "hovertemplate": "<b>%{hovertext}</b><br><br><extra></extra>",
         "hovertext": [
          "Aberdeen",
          "Adelaide",
          "Algiers",
          "Ankara",
          "Belém",
          "Asunción",
          "Athens",
          "Auckland",
          "Bangkok",
          "Ottawa",
          "Belfast",
          "Belgrade",
          "St.-Brieuc",
          "Poitier",
          "Chicago",
          "Annecy",
          "Roanne",
          "Roura",
          "Sinnamary",
          "Biarritz",
          "Aix-en-Provence",
          "Perpignan",
          "Tarbes",
          "Clermont-Ferrand",
          "Amsterdam",
          "San Sebastián",
          "Birmingham",
          "Bombay",
          "Bremen",
          "Brisbane",
          "Bristol",
          "Brussels",
          "Bucharest",
          "Budapest",
          "Cairo",
          "Calcutta",
          "Canton",
          "Cape Town",
          "Bordeaux",
          "Melun",
          "Berlin",
          "Arras",
          "Saint-Georges",
          "Saint-Etienne",
          "Fort-de-France",
          "Saint-Laurent-du-Maroni",
          "Iracoubo",
          "Cherbourg",
          "Caen",
          "Besancon",
          "Cayenne",
          "Chihuahua",
          "Chongqing",
          "Copenhagen",
          "Córdoba",
          "Dakar",
          "Darwin",
          "Djibouti",
          "Dublin",
          "Durban",
          "Frankfurt",
          "Georgetown",
          "Guatemala City",
          "Edinburgh",
          "Glasgow",
          "Lorient",
          "Agen",
          "Ajaccio",
          "Bastia",
          "Toulon",
          "Beziers",
          "Le Mans",
          "Guayaquil",
          "Hamburg",
          "Hammerfest",
          "Havana",
          "Helsinki",
          "Hobart",
          "Hong Kong",
          "Iquique",
          "Irkutsk",
          "Jakarta",
          "Johannesburg",
          "Kingston",
          "Kinshasa",
          "Kuala Lumpur",
          "Nimes",
          "Vichy",
          "Nevers",
          "Auxerre",
          "Montpellier",
          "Manila",
          "Lyons",
          "Dieppe",
          "Leeds",
          "Liverpool",
          "Lisbon",
          "Manchester",
          "Mazatlán",
          "Mecca",
          "Montevideo",
          "Moscow",
          "Munich",
          "Marseilles",
          "Bourges",
          "Milan",
          "Versailles",
          "Brive",
          "Troyes",
          "Calais",
          "Amiens",
          "Metz",
          "Pointe-a-Pitre",
          "Basse-terre",
          "St.-Benoit",
          "Dzaoudzi",
          "Rouen",
          "Dijon",
          "Mulhouse",
          "Nice",
          "Reims",
          "Nancy",
          "Orleans",
          "Le Havre",
          "Lille",
          "Osaka",
          "Nagasaki",
          "Nagoya",
          "Nairobi",
          "New Delhi",
          "Odessa",
          "Nanjing",
          "Oslo",
          "Panama City",
          "Paramaribo",
          "Perth",
          "Plymouth",
          "Naples",
          "Paris",
          "Toulouse",
          "Limoges",
          "Newcastle-on-Tyne",
          "Kourou",
          "La Rochelle",
          "St.-Denis",
          "Cayenne",
          "Strasbourg",
          "Singapore",
          "Sofia",
          "Salvador",
          "Port Moresby",
          "Prague",
          "Rangoon",
          "Reykjavík",
          "St. Petersburg",
          "Tananarive",
          "Tours",
          "Rome",
          "Angers",
          "São Paulo",
          "Grenoble",
          "Sydney",
          "Melbourne",
          "Detroit",
          "Helena",
          "Pierre",
          "Rio de Janeiro",
          "La Paz",
          "La Plata",
          "Alicante",
          "Neuquén",
          "Medellín",
          "Tokyo",
          "Teheran",
          "Tripoli",
          "Veracruz",
          "Vladivostok",
          "Warsaw",
          "Wellington",
          "Zürich",
          "Boise",
          "Brest",
          "Venice",
          "Valparaíso",
          "Boston",
          "Charleston",
          "Buffalo",
          "Monterrey",
          "Calgary",
          "Carlsbad",
          "Charleston",
          "Bangor",
          "Caracas",
          "Albany",
          "Albuquerque",
          "Amarillo",
          "Anchorage",
          "Atlanta",
          "Austin",
          "Baker",
          "Baltimore",
          "Birmingham",
          "Bismarck",
          "Charlotte",
          "Cheyenne",
          "Cleveland",
          "Columbia",
          "Columbus",
          "Denver",
          "Des Moines",
          "Dallas",
          "Cincinnati",
          "Dubuque",
          "Duluth",
          "Eastport",
          "Edmonton",
          "El Centro",
          "El Paso",
          "Eugene",
          "Fargo",
          "Flagstaff",
          "Fort Worth",
          "Fresno",
          "Grand Junction",
          "Grand Rapids",
          "Havre",
          "Honolulu",
          "Hot Springs",
          "Houston",
          "Idaho Falls",
          "Indianapolis",
          "Jackson",
          "Jacksonville",
          "Juneau",
          "Kansas City",
          "Key West",
          "Kingston",
          "Klamath Falls",
          "Knoxville",
          "Las Vegas",
          "Lewiston",
          "Lincoln",
          "London",
          "Long Beach",
          "Los Angeles",
          "Louisville",
          "Manchester",
          "Memphis",
          "Miami",
          "Milwaukee",
          "Minneapolis",
          "Mobile",
          "Montgomery",
          "Montpelier",
          "Nashville",
          "Moose Jaw",
          "Nelson",
          "Newark",
          "New Haven",
          "New Orleans",
          "Nome",
          "Oakland",
          "Oklahoma City",
          "Omaha",
          "Philadelphia",
          "Phoenix",
          "Montréal",
          "New York",
          "Pittsburgh",
          "Portland",
          "Portland",
          "Providence",
          "Quebec",
          "Raleigh",
          "Reno",
          "Richfield",
          "Richmond",
          "Roanoke",
          "Sacramento",
          "St. John",
          "St. Louis",
          "Salt Lake City",
          "San Antonio",
          "San Diego",
          "San Francisco",
          "San Jose",
          "San Juan",
          "Santa Fe",
          "Savannah",
          "Shreveport",
          "Sioux Falls",
          "Sitka",
          "Spokane",
          "Springfield",
          "Springfield",
          "Seattle",
          "Springfield",
          "Syracuse",
          "Tampa",
          "Toledo",
          "Tulsa",
          "Vancouver",
          "Victoria",
          "Virginia Beach",
          "Toronto",
          "Wichita",
          "Wilmington",
          "Sevilla",
          "Winnipeg",
          "Valencia",
          "Rosario",
          "Mendoza",
          "Madrid",
          "Barcelona",
          "Mexico City",
          "Guadalajara",
          "Lima",
          "Bilbao",
          "Vienna",
          "Shanghai",
          "Bogotá",
          "Santiago",
          "Buenos Aires",
          "Concepción",
          "Genoa",
          "Graz",
          "Zaragoza",
          "Innsbruck",
          "Washington",
          "Nantes",
          "Stockholm",
          "Rennes",
          "Beijing",
          "London"
         ],
         "legendgroup": "",
         "marker": {
          "color": "#636efa",
          "symbol": "circle"
         },
         "mode": "markers",
         "name": "",
         "showlegend": false,
         "type": "scattergeo"
        }
       ],
       "layout": {
        "geo": {
         "center": {},
         "domain": {
          "x": [
           0,
           1
          ],
          "y": [
           0,
           1
          ]
         },
         "projection": {
          "type": "natural earth"
         }
        },
        "legend": {
         "tracegroupgap": 0
        },
        "template": {
         "data": {
          "bar": [
           {
            "error_x": {
             "color": "#2a3f5f"
            },
            "error_y": {
             "color": "#2a3f5f"
            },
            "marker": {
             "line": {
              "color": "#E5ECF6",
              "width": 0.5
             },
             "pattern": {
              "fillmode": "overlay",
              "size": 10,
              "solidity": 0.2
             }
            },
            "type": "bar"
           }
          ],
          "barpolar": [
           {
            "marker": {
             "line": {
              "color": "#E5ECF6",
              "width": 0.5
             },
             "pattern": {
              "fillmode": "overlay",
              "size": 10,
              "solidity": 0.2
             }
            },
            "type": "barpolar"
           }
          ],
          "carpet": [
           {
            "aaxis": {
             "endlinecolor": "#2a3f5f",
             "gridcolor": "white",
             "linecolor": "white",
             "minorgridcolor": "white",
             "startlinecolor": "#2a3f5f"
            },
            "baxis": {
             "endlinecolor": "#2a3f5f",
             "gridcolor": "white",
             "linecolor": "white",
             "minorgridcolor": "white",
             "startlinecolor": "#2a3f5f"
            },
            "type": "carpet"
           }
          ],
          "choropleth": [
           {
            "colorbar": {
             "outlinewidth": 0,
             "ticks": ""
            },
            "type": "choropleth"
           }
          ],
          "contour": [
           {
            "colorbar": {
             "outlinewidth": 0,
             "ticks": ""
            },
            "colorscale": [
             [
              0,
              "#0d0887"
             ],
             [
              0.1111111111111111,
              "#46039f"
             ],
             [
              0.2222222222222222,
              "#7201a8"
             ],
             [
              0.3333333333333333,
              "#9c179e"
             ],
             [
              0.4444444444444444,
              "#bd3786"
             ],
             [
              0.5555555555555556,
              "#d8576b"
             ],
             [
              0.6666666666666666,
              "#ed7953"
             ],
             [
              0.7777777777777778,
              "#fb9f3a"
             ],
             [
              0.8888888888888888,
              "#fdca26"
             ],
             [
              1,
              "#f0f921"
             ]
            ],
            "type": "contour"
           }
          ],
          "contourcarpet": [
           {
            "colorbar": {
             "outlinewidth": 0,
             "ticks": ""
            },
            "type": "contourcarpet"
           }
          ],
          "heatmap": [
           {
            "colorbar": {
             "outlinewidth": 0,
             "ticks": ""
            },
            "colorscale": [
             [
              0,
              "#0d0887"
             ],
             [
              0.1111111111111111,
              "#46039f"
             ],
             [
              0.2222222222222222,
              "#7201a8"
             ],
             [
              0.3333333333333333,
              "#9c179e"
             ],
             [
              0.4444444444444444,
              "#bd3786"
             ],
             [
              0.5555555555555556,
              "#d8576b"
             ],
             [
              0.6666666666666666,
              "#ed7953"
             ],
             [
              0.7777777777777778,
              "#fb9f3a"
             ],
             [
              0.8888888888888888,
              "#fdca26"
             ],
             [
              1,
              "#f0f921"
             ]
            ],
            "type": "heatmap"
           }
          ],
          "histogram": [
           {
            "marker": {
             "pattern": {
              "fillmode": "overlay",
              "size": 10,
              "solidity": 0.2
             }
            },
            "type": "histogram"
           }
          ],
          "histogram2d": [
           {
            "colorbar": {
             "outlinewidth": 0,
             "ticks": ""
            },
            "colorscale": [
             [
              0,
              "#0d0887"
             ],
             [
              0.1111111111111111,
              "#46039f"
             ],
             [
              0.2222222222222222,
              "#7201a8"
             ],
             [
              0.3333333333333333,
              "#9c179e"
             ],
             [
              0.4444444444444444,
              "#bd3786"
             ],
             [
              0.5555555555555556,
              "#d8576b"
             ],
             [
              0.6666666666666666,
              "#ed7953"
             ],
             [
              0.7777777777777778,
              "#fb9f3a"
             ],
             [
              0.8888888888888888,
              "#fdca26"
             ],
             [
              1,
              "#f0f921"
             ]
            ],
            "type": "histogram2d"
           }
          ],
          "histogram2dcontour": [
           {
            "colorbar": {
             "outlinewidth": 0,
             "ticks": ""
            },
            "colorscale": [
             [
              0,
              "#0d0887"
             ],
             [
              0.1111111111111111,
              "#46039f"
             ],
             [
              0.2222222222222222,
              "#7201a8"
             ],
             [
              0.3333333333333333,
              "#9c179e"
             ],
             [
              0.4444444444444444,
              "#bd3786"
             ],
             [
              0.5555555555555556,
              "#d8576b"
             ],
             [
              0.6666666666666666,
              "#ed7953"
             ],
             [
              0.7777777777777778,
              "#fb9f3a"
             ],
             [
              0.8888888888888888,
              "#fdca26"
             ],
             [
              1,
              "#f0f921"
             ]
            ],
            "type": "histogram2dcontour"
           }
          ],
          "mesh3d": [
           {
            "colorbar": {
             "outlinewidth": 0,
             "ticks": ""
            },
            "type": "mesh3d"
           }
          ],
          "parcoords": [
           {
            "line": {
             "colorbar": {
              "outlinewidth": 0,
              "ticks": ""
             }
            },
            "type": "parcoords"
           }
          ],
          "pie": [
           {
            "automargin": true,
            "type": "pie"
           }
          ],
          "scatter": [
           {
            "fillpattern": {
             "fillmode": "overlay",
             "size": 10,
             "solidity": 0.2
            },
            "type": "scatter"
           }
          ],
          "scatter3d": [
           {
            "line": {
             "colorbar": {
              "outlinewidth": 0,
              "ticks": ""
             }
            },
            "marker": {
             "colorbar": {
              "outlinewidth": 0,
              "ticks": ""
             }
            },
            "type": "scatter3d"
           }
          ],
          "scattercarpet": [
           {
            "marker": {
             "colorbar": {
              "outlinewidth": 0,
              "ticks": ""
             }
            },
            "type": "scattercarpet"
           }
          ],
          "scattergeo": [
           {
            "marker": {
             "colorbar": {
              "outlinewidth": 0,
              "ticks": ""
             }
            },
            "type": "scattergeo"
           }
          ],
          "scattergl": [
           {
            "marker": {
             "colorbar": {
              "outlinewidth": 0,
              "ticks": ""
             }
            },
            "type": "scattergl"
           }
          ],
          "scattermap": [
           {
            "marker": {
             "colorbar": {
              "outlinewidth": 0,
              "ticks": ""
             }
            },
            "type": "scattermap"
           }
          ],
          "scattermapbox": [
           {
            "marker": {
             "colorbar": {
              "outlinewidth": 0,
              "ticks": ""
             }
            },
            "type": "scattermapbox"
           }
          ],
          "scatterpolar": [
           {
            "marker": {
             "colorbar": {
              "outlinewidth": 0,
              "ticks": ""
             }
            },
            "type": "scatterpolar"
           }
          ],
          "scatterpolargl": [
           {
            "marker": {
             "colorbar": {
              "outlinewidth": 0,
              "ticks": ""
             }
            },
            "type": "scatterpolargl"
           }
          ],
          "scatterternary": [
           {
            "marker": {
             "colorbar": {
              "outlinewidth": 0,
              "ticks": ""
             }
            },
            "type": "scatterternary"
           }
          ],
          "surface": [
           {
            "colorbar": {
             "outlinewidth": 0,
             "ticks": ""
            },
            "colorscale": [
             [
              0,
              "#0d0887"
             ],
             [
              0.1111111111111111,
              "#46039f"
             ],
             [
              0.2222222222222222,
              "#7201a8"
             ],
             [
              0.3333333333333333,
              "#9c179e"
             ],
             [
              0.4444444444444444,
              "#bd3786"
             ],
             [
              0.5555555555555556,
              "#d8576b"
             ],
             [
              0.6666666666666666,
              "#ed7953"
             ],
             [
              0.7777777777777778,
              "#fb9f3a"
             ],
             [
              0.8888888888888888,
              "#fdca26"
             ],
             [
              1,
              "#f0f921"
             ]
            ],
            "type": "surface"
           }
          ],
          "table": [
           {
            "cells": {
             "fill": {
              "color": "#EBF0F8"
             },
             "line": {
              "color": "white"
             }
            },
            "header": {
             "fill": {
              "color": "#C8D4E3"
             },
             "line": {
              "color": "white"
             }
            },
            "type": "table"
           }
          ]
         },
         "layout": {
          "annotationdefaults": {
           "arrowcolor": "#2a3f5f",
           "arrowhead": 0,
           "arrowwidth": 1
          },
          "autotypenumbers": "strict",
          "coloraxis": {
           "colorbar": {
            "outlinewidth": 0,
            "ticks": ""
           }
          },
          "colorscale": {
           "diverging": [
            [
             0,
             "#8e0152"
            ],
            [
             0.1,
             "#c51b7d"
            ],
            [
             0.2,
             "#de77ae"
            ],
            [
             0.3,
             "#f1b6da"
            ],
            [
             0.4,
             "#fde0ef"
            ],
            [
             0.5,
             "#f7f7f7"
            ],
            [
             0.6,
             "#e6f5d0"
            ],
            [
             0.7,
             "#b8e186"
            ],
            [
             0.8,
             "#7fbc41"
            ],
            [
             0.9,
             "#4d9221"
            ],
            [
             1,
             "#276419"
            ]
           ],
           "sequential": [
            [
             0,
             "#0d0887"
            ],
            [
             0.1111111111111111,
             "#46039f"
            ],
            [
             0.2222222222222222,
             "#7201a8"
            ],
            [
             0.3333333333333333,
             "#9c179e"
            ],
            [
             0.4444444444444444,
             "#bd3786"
            ],
            [
             0.5555555555555556,
             "#d8576b"
            ],
            [
             0.6666666666666666,
             "#ed7953"
            ],
            [
             0.7777777777777778,
             "#fb9f3a"
            ],
            [
             0.8888888888888888,
             "#fdca26"
            ],
            [
             1,
             "#f0f921"
            ]
           ],
           "sequentialminus": [
            [
             0,
             "#0d0887"
            ],
            [
             0.1111111111111111,
             "#46039f"
            ],
            [
             0.2222222222222222,
             "#7201a8"
            ],
            [
             0.3333333333333333,
             "#9c179e"
            ],
            [
             0.4444444444444444,
             "#bd3786"
            ],
            [
             0.5555555555555556,
             "#d8576b"
            ],
            [
             0.6666666666666666,
             "#ed7953"
            ],
            [
             0.7777777777777778,
             "#fb9f3a"
            ],
            [
             0.8888888888888888,
             "#fdca26"
            ],
            [
             1,
             "#f0f921"
            ]
           ]
          },
          "colorway": [
           "#636efa",
           "#EF553B",
           "#00cc96",
           "#ab63fa",
           "#FFA15A",
           "#19d3f3",
           "#FF6692",
           "#B6E880",
           "#FF97FF",
           "#FECB52"
          ],
          "font": {
           "color": "#2a3f5f"
          },
          "geo": {
           "bgcolor": "white",
           "lakecolor": "white",
           "landcolor": "#E5ECF6",
           "showlakes": true,
           "showland": true,
           "subunitcolor": "white"
          },
          "hoverlabel": {
           "align": "left"
          },
          "hovermode": "closest",
          "mapbox": {
           "style": "light"
          },
          "paper_bgcolor": "white",
          "plot_bgcolor": "#E5ECF6",
          "polar": {
           "angularaxis": {
            "gridcolor": "white",
            "linecolor": "white",
            "ticks": ""
           },
           "bgcolor": "#E5ECF6",
           "radialaxis": {
            "gridcolor": "white",
            "linecolor": "white",
            "ticks": ""
           }
          },
          "scene": {
           "xaxis": {
            "backgroundcolor": "#E5ECF6",
            "gridcolor": "white",
            "gridwidth": 2,
            "linecolor": "white",
            "showbackground": true,
            "ticks": "",
            "zerolinecolor": "white"
           },
           "yaxis": {
            "backgroundcolor": "#E5ECF6",
            "gridcolor": "white",
            "gridwidth": 2,
            "linecolor": "white",
            "showbackground": true,
            "ticks": "",
            "zerolinecolor": "white"
           },
           "zaxis": {
            "backgroundcolor": "#E5ECF6",
            "gridcolor": "white",
            "gridwidth": 2,
            "linecolor": "white",
            "showbackground": true,
            "ticks": "",
            "zerolinecolor": "white"
           }
          },
          "shapedefaults": {
           "line": {
            "color": "#2a3f5f"
           }
          },
          "ternary": {
           "aaxis": {
            "gridcolor": "white",
            "linecolor": "white",
            "ticks": ""
           },
           "baxis": {
            "gridcolor": "white",
            "linecolor": "white",
            "ticks": ""
           },
           "bgcolor": "#E5ECF6",
           "caxis": {
            "gridcolor": "white",
            "linecolor": "white",
            "ticks": ""
           }
          },
          "title": {
           "x": 0.05
          },
          "xaxis": {
           "automargin": true,
           "gridcolor": "white",
           "linecolor": "white",
           "ticks": "",
           "title": {
            "standoff": 15
           },
           "zerolinecolor": "white",
           "zerolinewidth": 2
          },
          "yaxis": {
           "automargin": true,
           "gridcolor": "white",
           "linecolor": "white",
           "ticks": "",
           "title": {
            "standoff": 15
           },
           "zerolinecolor": "white",
           "zerolinewidth": 2
          }
         }
        },
        "title": {
         "text": " Map"
        }
       }
      }
     },
     "metadata": {},
     "output_type": "display_data"
    }
   ],
   "source": [
    "\n",
    "cities_df.head()\n",
    "cities_df[\"Long\"] = cities_df[\"coords\"].apply(lambda x: x.split('POINT(')[1].split(' ')[0])\n",
    "cities_df[\"Lat\"] = cities_df[\"coords\"].apply(lambda x: x.split('POINT(')[1].split(' ')[1].split(\")\")[0])\n",
    "cities_df = cities_df.drop([\"country_state\", \"coords\"], axis = 1)\n",
    "cities_df\n",
    "\n",
    "cities_df[\"start_year\"] = cities_df[\"start_year\"].fillna(0)\n",
    "cities_df.info()\n",
    "\n",
    "fig = px.scatter_geo(cities_df, \n",
    "                     lat='Lat', \n",
    "                     lon='Long',\n",
    "                     hover_name='name', \n",
    "                     projection='natural earth',\n",
    "                     title=' Map')\n",
    "fig.show()\n"
   ]
  },
  {
   "cell_type": "code",
   "execution_count": null,
   "id": "5b7f533e",
   "metadata": {},
   "outputs": [
    {
     "name": "stdout",
     "output_type": "stream",
     "text": [
      "<class 'pandas.core.frame.DataFrame'>\n",
      "RangeIndex: 1343 entries, 0 to 1342\n",
      "Data columns (total 7 columns):\n",
      " #   Column             Non-Null Count  Dtype  \n",
      "---  ------             --------------  -----  \n",
      " 0   id                 1343 non-null   int64  \n",
      " 1   city_id            1343 non-null   int64  \n",
      " 2   name               1343 non-null   object \n",
      " 3   url_name           1343 non-null   object \n",
      " 4   color              1343 non-null   object \n",
      " 5   system_id          1343 non-null   int64  \n",
      " 6   transport_mode_id  926 non-null    float64\n",
      "dtypes: float64(1), int64(3), object(3)\n",
      "memory usage: 73.6+ KB\n"
     ]
    },
    {
     "data": {
      "text/html": [
       "<div>\n",
       "<style scoped>\n",
       "    .dataframe tbody tr th:only-of-type {\n",
       "        vertical-align: middle;\n",
       "    }\n",
       "\n",
       "    .dataframe tbody tr th {\n",
       "        vertical-align: top;\n",
       "    }\n",
       "\n",
       "    .dataframe thead th {\n",
       "        text-align: right;\n",
       "    }\n",
       "</style>\n",
       "<table border=\"1\" class=\"dataframe\">\n",
       "  <thead>\n",
       "    <tr style=\"text-align: right;\">\n",
       "      <th></th>\n",
       "      <th>id</th>\n",
       "      <th>city_id</th>\n",
       "      <th>name</th>\n",
       "      <th>url_name</th>\n",
       "      <th>color</th>\n",
       "      <th>system_id</th>\n",
       "      <th>transport_mode_id</th>\n",
       "    </tr>\n",
       "  </thead>\n",
       "  <tbody>\n",
       "    <tr>\n",
       "      <th>124</th>\n",
       "      <td>118</td>\n",
       "      <td>69</td>\n",
       "      <td>Waterloo &amp; City Line</td>\n",
       "      <td>118-waterloo-&amp;-city-line</td>\n",
       "      <td>#50e3c2</td>\n",
       "      <td>259</td>\n",
       "      <td>4.0</td>\n",
       "    </tr>\n",
       "    <tr>\n",
       "      <th>125</th>\n",
       "      <td>115</td>\n",
       "      <td>69</td>\n",
       "      <td>Northern Line</td>\n",
       "      <td>115-norther-line</td>\n",
       "      <td>#000</td>\n",
       "      <td>259</td>\n",
       "      <td>4.0</td>\n",
       "    </tr>\n",
       "    <tr>\n",
       "      <th>126</th>\n",
       "      <td>117</td>\n",
       "      <td>69</td>\n",
       "      <td>Circle Line - Circle via Euston, Victoria, Tow...</td>\n",
       "      <td>117-circle-line</td>\n",
       "      <td>#fdfa07</td>\n",
       "      <td>259</td>\n",
       "      <td>3.0</td>\n",
       "    </tr>\n",
       "    <tr>\n",
       "      <th>147</th>\n",
       "      <td>116</td>\n",
       "      <td>69</td>\n",
       "      <td>Central Line - Epping to West Ruislip &amp; Ealing...</td>\n",
       "      <td>116-central-line</td>\n",
       "      <td>#fb0303</td>\n",
       "      <td>259</td>\n",
       "      <td>4.0</td>\n",
       "    </tr>\n",
       "    <tr>\n",
       "      <th>245</th>\n",
       "      <td>143</td>\n",
       "      <td>69</td>\n",
       "      <td>Victoria Line</td>\n",
       "      <td>143-victoria</td>\n",
       "      <td>#02dafb</td>\n",
       "      <td>259</td>\n",
       "      <td>4.0</td>\n",
       "    </tr>\n",
       "    <tr>\n",
       "      <th>249</th>\n",
       "      <td>162</td>\n",
       "      <td>69</td>\n",
       "      <td>Piccadilly Line</td>\n",
       "      <td>162-piccadilly-line</td>\n",
       "      <td>#000bbc</td>\n",
       "      <td>259</td>\n",
       "      <td>4.0</td>\n",
       "    </tr>\n",
       "    <tr>\n",
       "      <th>258</th>\n",
       "      <td>203</td>\n",
       "      <td>69</td>\n",
       "      <td>Tramlink</td>\n",
       "      <td>203-tramlink</td>\n",
       "      <td>#50e71b</td>\n",
       "      <td>263</td>\n",
       "      <td>9.0</td>\n",
       "    </tr>\n",
       "    <tr>\n",
       "      <th>259</th>\n",
       "      <td>167</td>\n",
       "      <td>69</td>\n",
       "      <td>Emirates Airline</td>\n",
       "      <td>167-emirates-airline</td>\n",
       "      <td>#c00000</td>\n",
       "      <td>263</td>\n",
       "      <td>7.0</td>\n",
       "    </tr>\n",
       "    <tr>\n",
       "      <th>260</th>\n",
       "      <td>209</td>\n",
       "      <td>69</td>\n",
       "      <td>Elizabeth Line</td>\n",
       "      <td>209-elizabeth-line</td>\n",
       "      <td>#6518a1</td>\n",
       "      <td>263</td>\n",
       "      <td>3.0</td>\n",
       "    </tr>\n",
       "    <tr>\n",
       "      <th>282</th>\n",
       "      <td>160</td>\n",
       "      <td>69</td>\n",
       "      <td>DLR</td>\n",
       "      <td>160-dlr</td>\n",
       "      <td>#86e9c8</td>\n",
       "      <td>263</td>\n",
       "      <td>5.0</td>\n",
       "    </tr>\n",
       "    <tr>\n",
       "      <th>286</th>\n",
       "      <td>208</td>\n",
       "      <td>69</td>\n",
       "      <td>West Midlands Trains/LNWR</td>\n",
       "      <td>208-national-rail-(euston)</td>\n",
       "      <td>#054400</td>\n",
       "      <td>261</td>\n",
       "      <td>2.0</td>\n",
       "    </tr>\n",
       "    <tr>\n",
       "      <th>287</th>\n",
       "      <td>163</td>\n",
       "      <td>69</td>\n",
       "      <td>Thameslink</td>\n",
       "      <td>163-thameslink</td>\n",
       "      <td>#8f00ff</td>\n",
       "      <td>261</td>\n",
       "      <td>3.0</td>\n",
       "    </tr>\n",
       "    <tr>\n",
       "      <th>288</th>\n",
       "      <td>172</td>\n",
       "      <td>69</td>\n",
       "      <td>Southern</td>\n",
       "      <td>172-national-rail-(southern)</td>\n",
       "      <td>#63f68b</td>\n",
       "      <td>261</td>\n",
       "      <td>2.0</td>\n",
       "    </tr>\n",
       "    <tr>\n",
       "      <th>289</th>\n",
       "      <td>171</td>\n",
       "      <td>69</td>\n",
       "      <td>Southeastern</td>\n",
       "      <td>171-national-rail-(southeastern)</td>\n",
       "      <td>#0087ff</td>\n",
       "      <td>261</td>\n",
       "      <td>2.0</td>\n",
       "    </tr>\n",
       "    <tr>\n",
       "      <th>290</th>\n",
       "      <td>144</td>\n",
       "      <td>69</td>\n",
       "      <td>South Western</td>\n",
       "      <td>144-south-west-trains</td>\n",
       "      <td>#09958a</td>\n",
       "      <td>261</td>\n",
       "      <td>2.0</td>\n",
       "    </tr>\n",
       "    <tr>\n",
       "      <th>291</th>\n",
       "      <td>214</td>\n",
       "      <td>69</td>\n",
       "      <td>Greater Anglia</td>\n",
       "      <td>214-nr-(liverpool-st)</td>\n",
       "      <td>#909090</td>\n",
       "      <td>261</td>\n",
       "      <td>2.0</td>\n",
       "    </tr>\n",
       "    <tr>\n",
       "      <th>292</th>\n",
       "      <td>164</td>\n",
       "      <td>69</td>\n",
       "      <td>GWR</td>\n",
       "      <td>164-national-rail-(gwr)</td>\n",
       "      <td>#003f0b</td>\n",
       "      <td>261</td>\n",
       "      <td>2.0</td>\n",
       "    </tr>\n",
       "    <tr>\n",
       "      <th>293</th>\n",
       "      <td>206</td>\n",
       "      <td>69</td>\n",
       "      <td>Freight Rail</td>\n",
       "      <td>206-national-rail-(freight-other)</td>\n",
       "      <td>#000000</td>\n",
       "      <td>261</td>\n",
       "      <td>2.0</td>\n",
       "    </tr>\n",
       "    <tr>\n",
       "      <th>294</th>\n",
       "      <td>216</td>\n",
       "      <td>69</td>\n",
       "      <td>Chiltern</td>\n",
       "      <td>216-nr-(marylebone)</td>\n",
       "      <td>#005e97</td>\n",
       "      <td>261</td>\n",
       "      <td>2.0</td>\n",
       "    </tr>\n",
       "    <tr>\n",
       "      <th>295</th>\n",
       "      <td>211</td>\n",
       "      <td>69</td>\n",
       "      <td>C2C</td>\n",
       "      <td>211-nr-(fenchurch-st)</td>\n",
       "      <td>#840084</td>\n",
       "      <td>261</td>\n",
       "      <td>2.0</td>\n",
       "    </tr>\n",
       "    <tr>\n",
       "      <th>296</th>\n",
       "      <td>140</td>\n",
       "      <td>69</td>\n",
       "      <td>West London Line - Clapham Junction to Willesd...</td>\n",
       "      <td>140-overground</td>\n",
       "      <td>#f85467</td>\n",
       "      <td>262</td>\n",
       "      <td>3.0</td>\n",
       "    </tr>\n",
       "    <tr>\n",
       "      <th>297</th>\n",
       "      <td>207</td>\n",
       "      <td>69</td>\n",
       "      <td>GOBLIN - Gospel Oak to Barking via Walthminstow</td>\n",
       "      <td>207-overground-(goblin)</td>\n",
       "      <td>#03ff00</td>\n",
       "      <td>262</td>\n",
       "      <td>3.0</td>\n",
       "    </tr>\n",
       "    <tr>\n",
       "      <th>298</th>\n",
       "      <td>161</td>\n",
       "      <td>69</td>\n",
       "      <td>North London Line - Richmond to Stratford via ...</td>\n",
       "      <td>161-overground-(north-london-line)</td>\n",
       "      <td>#000000</td>\n",
       "      <td>262</td>\n",
       "      <td>3.0</td>\n",
       "    </tr>\n",
       "    <tr>\n",
       "      <th>299</th>\n",
       "      <td>151</td>\n",
       "      <td>69</td>\n",
       "      <td>South London Line - Clapham Junction to Canada...</td>\n",
       "      <td>151-overground-(south-london-line)</td>\n",
       "      <td>#000794</td>\n",
       "      <td>262</td>\n",
       "      <td>3.0</td>\n",
       "    </tr>\n",
       "    <tr>\n",
       "      <th>300</th>\n",
       "      <td>210</td>\n",
       "      <td>69</td>\n",
       "      <td>Watford DC - Euston to Watford Junction via Ha...</td>\n",
       "      <td>210-lo-(watford-dc)</td>\n",
       "      <td>#a36505</td>\n",
       "      <td>262</td>\n",
       "      <td>3.0</td>\n",
       "    </tr>\n",
       "    <tr>\n",
       "      <th>301</th>\n",
       "      <td>142</td>\n",
       "      <td>69</td>\n",
       "      <td>Bakerloo Line - Harrow and Wealdstone to Eleph...</td>\n",
       "      <td>142-bakerloo</td>\n",
       "      <td>#8b572a</td>\n",
       "      <td>259</td>\n",
       "      <td>4.0</td>\n",
       "    </tr>\n",
       "    <tr>\n",
       "      <th>302</th>\n",
       "      <td>146</td>\n",
       "      <td>69</td>\n",
       "      <td>Jubilee Line - Stanmore to Stratford via Westm...</td>\n",
       "      <td>146-jubilee-line</td>\n",
       "      <td>#a6a4a4</td>\n",
       "      <td>259</td>\n",
       "      <td>4.0</td>\n",
       "    </tr>\n",
       "    <tr>\n",
       "      <th>303</th>\n",
       "      <td>205</td>\n",
       "      <td>69</td>\n",
       "      <td>Metropolitan Line -</td>\n",
       "      <td>205-metropolitan-line</td>\n",
       "      <td>#a30b58</td>\n",
       "      <td>259</td>\n",
       "      <td>3.0</td>\n",
       "    </tr>\n",
       "    <tr>\n",
       "      <th>632</th>\n",
       "      <td>202</td>\n",
       "      <td>69</td>\n",
       "      <td>LNER/East Midlands Trains/Great Northern</td>\n",
       "      <td>202-national-rail-(kx-moorgate)</td>\n",
       "      <td>#ffbe00</td>\n",
       "      <td>261</td>\n",
       "      <td>2.0</td>\n",
       "    </tr>\n",
       "    <tr>\n",
       "      <th>709</th>\n",
       "      <td>139</td>\n",
       "      <td>69</td>\n",
       "      <td>District Line - Upminster to Wimbledon, Richmo...</td>\n",
       "      <td>139-district-line</td>\n",
       "      <td>#417505</td>\n",
       "      <td>259</td>\n",
       "      <td>3.0</td>\n",
       "    </tr>\n",
       "    <tr>\n",
       "      <th>710</th>\n",
       "      <td>215</td>\n",
       "      <td>69</td>\n",
       "      <td>Lea Valley Lines - Liverpool Street to Cheshun...</td>\n",
       "      <td>215-lo-(lea-valley-lines)</td>\n",
       "      <td>#00fffb</td>\n",
       "      <td>262</td>\n",
       "      <td>3.0</td>\n",
       "    </tr>\n",
       "    <tr>\n",
       "      <th>902</th>\n",
       "      <td>224</td>\n",
       "      <td>69</td>\n",
       "      <td>Eurostar/HS1</td>\n",
       "      <td>224-nr-(hs1-&amp;-eurostar)</td>\n",
       "      <td>#f4cc26</td>\n",
       "      <td>261</td>\n",
       "      <td>1.0</td>\n",
       "    </tr>\n",
       "    <tr>\n",
       "      <th>1030</th>\n",
       "      <td>204</td>\n",
       "      <td>69</td>\n",
       "      <td>Hammersmith &amp; City Line - Hammersmith to Barki...</td>\n",
       "      <td>204-hammersmith-&amp;-city-line</td>\n",
       "      <td>#fc9cfd</td>\n",
       "      <td>259</td>\n",
       "      <td>3.0</td>\n",
       "    </tr>\n",
       "    <tr>\n",
       "      <th>1031</th>\n",
       "      <td>159</td>\n",
       "      <td>69</td>\n",
       "      <td>East London Line - Dalston Junction to New Cro...</td>\n",
       "      <td>159-overground-(east-london-line)</td>\n",
       "      <td>#ff9000</td>\n",
       "      <td>262</td>\n",
       "      <td>3.0</td>\n",
       "    </tr>\n",
       "    <tr>\n",
       "      <th>1032</th>\n",
       "      <td>212</td>\n",
       "      <td>69</td>\n",
       "      <td>Romford Shuttle - Upminster to Romford via Eme...</td>\n",
       "      <td>212-lo-(romford-shuttle)</td>\n",
       "      <td>#9a8c00</td>\n",
       "      <td>262</td>\n",
       "      <td>3.0</td>\n",
       "    </tr>\n",
       "  </tbody>\n",
       "</table>\n",
       "</div>"
      ],
      "text/plain": [
       "       id  city_id                                               name  \\\n",
       "124   118       69                               Waterloo & City Line   \n",
       "125   115       69                                      Northern Line   \n",
       "126   117       69  Circle Line - Circle via Euston, Victoria, Tow...   \n",
       "147   116       69  Central Line - Epping to West Ruislip & Ealing...   \n",
       "245   143       69                                      Victoria Line   \n",
       "249   162       69                                    Piccadilly Line   \n",
       "258   203       69                                           Tramlink   \n",
       "259   167       69                                   Emirates Airline   \n",
       "260   209       69                                     Elizabeth Line   \n",
       "282   160       69                                                DLR   \n",
       "286   208       69                          West Midlands Trains/LNWR   \n",
       "287   163       69                                         Thameslink   \n",
       "288   172       69                                           Southern   \n",
       "289   171       69                                       Southeastern   \n",
       "290   144       69                                      South Western   \n",
       "291   214       69                                     Greater Anglia   \n",
       "292   164       69                                                GWR   \n",
       "293   206       69                                       Freight Rail   \n",
       "294   216       69                                           Chiltern   \n",
       "295   211       69                                                C2C   \n",
       "296   140       69  West London Line - Clapham Junction to Willesd...   \n",
       "297   207       69    GOBLIN - Gospel Oak to Barking via Walthminstow   \n",
       "298   161       69  North London Line - Richmond to Stratford via ...   \n",
       "299   151       69  South London Line - Clapham Junction to Canada...   \n",
       "300   210       69  Watford DC - Euston to Watford Junction via Ha...   \n",
       "301   142       69  Bakerloo Line - Harrow and Wealdstone to Eleph...   \n",
       "302   146       69  Jubilee Line - Stanmore to Stratford via Westm...   \n",
       "303   205       69                               Metropolitan Line -    \n",
       "632   202       69           LNER/East Midlands Trains/Great Northern   \n",
       "709   139       69  District Line - Upminster to Wimbledon, Richmo...   \n",
       "710   215       69  Lea Valley Lines - Liverpool Street to Cheshun...   \n",
       "902   224       69                                       Eurostar/HS1   \n",
       "1030  204       69  Hammersmith & City Line - Hammersmith to Barki...   \n",
       "1031  159       69  East London Line - Dalston Junction to New Cro...   \n",
       "1032  212       69  Romford Shuttle - Upminster to Romford via Eme...   \n",
       "\n",
       "                                url_name    color  system_id  \\\n",
       "124             118-waterloo-&-city-line  #50e3c2        259   \n",
       "125                     115-norther-line     #000        259   \n",
       "126                      117-circle-line  #fdfa07        259   \n",
       "147                     116-central-line  #fb0303        259   \n",
       "245                         143-victoria  #02dafb        259   \n",
       "249                  162-piccadilly-line  #000bbc        259   \n",
       "258                         203-tramlink  #50e71b        263   \n",
       "259                 167-emirates-airline  #c00000        263   \n",
       "260                   209-elizabeth-line  #6518a1        263   \n",
       "282                              160-dlr  #86e9c8        263   \n",
       "286           208-national-rail-(euston)  #054400        261   \n",
       "287                       163-thameslink  #8f00ff        261   \n",
       "288         172-national-rail-(southern)  #63f68b        261   \n",
       "289     171-national-rail-(southeastern)  #0087ff        261   \n",
       "290                144-south-west-trains  #09958a        261   \n",
       "291                214-nr-(liverpool-st)  #909090        261   \n",
       "292              164-national-rail-(gwr)  #003f0b        261   \n",
       "293    206-national-rail-(freight-other)  #000000        261   \n",
       "294                  216-nr-(marylebone)  #005e97        261   \n",
       "295                211-nr-(fenchurch-st)  #840084        261   \n",
       "296                       140-overground  #f85467        262   \n",
       "297              207-overground-(goblin)  #03ff00        262   \n",
       "298   161-overground-(north-london-line)  #000000        262   \n",
       "299   151-overground-(south-london-line)  #000794        262   \n",
       "300                  210-lo-(watford-dc)  #a36505        262   \n",
       "301                         142-bakerloo  #8b572a        259   \n",
       "302                     146-jubilee-line  #a6a4a4        259   \n",
       "303                205-metropolitan-line  #a30b58        259   \n",
       "632      202-national-rail-(kx-moorgate)  #ffbe00        261   \n",
       "709                    139-district-line  #417505        259   \n",
       "710            215-lo-(lea-valley-lines)  #00fffb        262   \n",
       "902              224-nr-(hs1-&-eurostar)  #f4cc26        261   \n",
       "1030         204-hammersmith-&-city-line  #fc9cfd        259   \n",
       "1031   159-overground-(east-london-line)  #ff9000        262   \n",
       "1032            212-lo-(romford-shuttle)  #9a8c00        262   \n",
       "\n",
       "      transport_mode_id  \n",
       "124                 4.0  \n",
       "125                 4.0  \n",
       "126                 3.0  \n",
       "147                 4.0  \n",
       "245                 4.0  \n",
       "249                 4.0  \n",
       "258                 9.0  \n",
       "259                 7.0  \n",
       "260                 3.0  \n",
       "282                 5.0  \n",
       "286                 2.0  \n",
       "287                 3.0  \n",
       "288                 2.0  \n",
       "289                 2.0  \n",
       "290                 2.0  \n",
       "291                 2.0  \n",
       "292                 2.0  \n",
       "293                 2.0  \n",
       "294                 2.0  \n",
       "295                 2.0  \n",
       "296                 3.0  \n",
       "297                 3.0  \n",
       "298                 3.0  \n",
       "299                 3.0  \n",
       "300                 3.0  \n",
       "301                 4.0  \n",
       "302                 4.0  \n",
       "303                 3.0  \n",
       "632                 2.0  \n",
       "709                 3.0  \n",
       "710                 3.0  \n",
       "902                 1.0  \n",
       "1030                3.0  \n",
       "1031                3.0  \n",
       "1032                3.0  "
      ]
     },
     "execution_count": 3,
     "metadata": {},
     "output_type": "execute_result"
    }
   ],
   "source": [
    "lines_df.info()\n",
    "lines_df.head(10)\n"
   ]
  },
  {
   "cell_type": "code",
   "execution_count": 4,
   "id": "a39da714",
   "metadata": {},
   "outputs": [
    {
     "name": "stdout",
     "output_type": "stream",
     "text": [
      "<class 'pandas.core.frame.DataFrame'>\n",
      "RangeIndex: 16242 entries, 0 to 16241\n",
      "Data columns (total 6 columns):\n",
      " #   Column      Non-Null Count  Dtype \n",
      "---  ------      --------------  ----- \n",
      " 0   id          16242 non-null  int64 \n",
      " 1   station_id  16242 non-null  int64 \n",
      " 2   line_id     16242 non-null  int64 \n",
      " 3   city_id     16242 non-null  int64 \n",
      " 4   created_at  16242 non-null  object\n",
      " 5   updated_at  16242 non-null  object\n",
      "dtypes: int64(4), object(2)\n",
      "memory usage: 761.5+ KB\n"
     ]
    },
    {
     "data": {
      "text/html": [
       "<div>\n",
       "<style scoped>\n",
       "    .dataframe tbody tr th:only-of-type {\n",
       "        vertical-align: middle;\n",
       "    }\n",
       "\n",
       "    .dataframe tbody tr th {\n",
       "        vertical-align: top;\n",
       "    }\n",
       "\n",
       "    .dataframe thead th {\n",
       "        text-align: right;\n",
       "    }\n",
       "</style>\n",
       "<table border=\"1\" class=\"dataframe\">\n",
       "  <thead>\n",
       "    <tr style=\"text-align: right;\">\n",
       "      <th></th>\n",
       "      <th>id</th>\n",
       "      <th>station_id</th>\n",
       "      <th>line_id</th>\n",
       "      <th>city_id</th>\n",
       "      <th>created_at</th>\n",
       "      <th>updated_at</th>\n",
       "    </tr>\n",
       "  </thead>\n",
       "  <tbody>\n",
       "    <tr>\n",
       "      <th>10619</th>\n",
       "      <td>14789</td>\n",
       "      <td>14492</td>\n",
       "      <td>1338</td>\n",
       "      <td>206</td>\n",
       "      <td>2018-10-11 19:09:31.521099</td>\n",
       "      <td>2018-10-11 19:09:31.521099</td>\n",
       "    </tr>\n",
       "    <tr>\n",
       "      <th>5434</th>\n",
       "      <td>5580</td>\n",
       "      <td>256</td>\n",
       "      <td>70</td>\n",
       "      <td>4</td>\n",
       "      <td>2017-11-21 00:00:00</td>\n",
       "      <td>2017-11-21 00:00:00</td>\n",
       "    </tr>\n",
       "    <tr>\n",
       "      <th>6537</th>\n",
       "      <td>15901</td>\n",
       "      <td>15591</td>\n",
       "      <td>1475</td>\n",
       "      <td>91</td>\n",
       "      <td>2018-11-11 21:35:32.684827</td>\n",
       "      <td>2018-11-11 21:35:32.684827</td>\n",
       "    </tr>\n",
       "    <tr>\n",
       "      <th>5914</th>\n",
       "      <td>6063</td>\n",
       "      <td>5267</td>\n",
       "      <td>362</td>\n",
       "      <td>95</td>\n",
       "      <td>2017-11-21 00:00:00</td>\n",
       "      <td>2017-11-21 00:00:00</td>\n",
       "    </tr>\n",
       "    <tr>\n",
       "      <th>16220</th>\n",
       "      <td>16773</td>\n",
       "      <td>16537</td>\n",
       "      <td>1603</td>\n",
       "      <td>91</td>\n",
       "      <td>2019-03-08 22:28:54.827849</td>\n",
       "      <td>2019-03-08 22:28:54.827849</td>\n",
       "    </tr>\n",
       "    <tr>\n",
       "      <th>223</th>\n",
       "      <td>281</td>\n",
       "      <td>6595</td>\n",
       "      <td>564</td>\n",
       "      <td>114</td>\n",
       "      <td>2017-11-21 00:00:00</td>\n",
       "      <td>2017-11-21 00:00:00</td>\n",
       "    </tr>\n",
       "    <tr>\n",
       "      <th>9865</th>\n",
       "      <td>12039</td>\n",
       "      <td>12068</td>\n",
       "      <td>1105</td>\n",
       "      <td>1</td>\n",
       "      <td>2018-07-08 00:50:22.778778</td>\n",
       "      <td>2018-07-08 00:50:22.778778</td>\n",
       "    </tr>\n",
       "    <tr>\n",
       "      <th>1790</th>\n",
       "      <td>1828</td>\n",
       "      <td>7342</td>\n",
       "      <td>615</td>\n",
       "      <td>23</td>\n",
       "      <td>2017-11-21 00:00:00</td>\n",
       "      <td>2017-11-21 00:00:00</td>\n",
       "    </tr>\n",
       "    <tr>\n",
       "      <th>9620</th>\n",
       "      <td>11038</td>\n",
       "      <td>3415</td>\n",
       "      <td>271</td>\n",
       "      <td>106</td>\n",
       "      <td>2018-04-04 19:32:18.399729</td>\n",
       "      <td>2018-04-04 19:32:18.399729</td>\n",
       "    </tr>\n",
       "    <tr>\n",
       "      <th>15832</th>\n",
       "      <td>16315</td>\n",
       "      <td>15996</td>\n",
       "      <td>1500</td>\n",
       "      <td>91</td>\n",
       "      <td>2019-01-03 22:21:15.10247</td>\n",
       "      <td>2019-01-03 22:21:15.10247</td>\n",
       "    </tr>\n",
       "  </tbody>\n",
       "</table>\n",
       "</div>"
      ],
      "text/plain": [
       "          id  station_id  line_id  city_id                  created_at  \\\n",
       "10619  14789       14492     1338      206  2018-10-11 19:09:31.521099   \n",
       "5434    5580         256       70        4         2017-11-21 00:00:00   \n",
       "6537   15901       15591     1475       91  2018-11-11 21:35:32.684827   \n",
       "5914    6063        5267      362       95         2017-11-21 00:00:00   \n",
       "16220  16773       16537     1603       91  2019-03-08 22:28:54.827849   \n",
       "223      281        6595      564      114         2017-11-21 00:00:00   \n",
       "9865   12039       12068     1105        1  2018-07-08 00:50:22.778778   \n",
       "1790    1828        7342      615       23         2017-11-21 00:00:00   \n",
       "9620   11038        3415      271      106  2018-04-04 19:32:18.399729   \n",
       "15832  16315       15996     1500       91   2019-01-03 22:21:15.10247   \n",
       "\n",
       "                       updated_at  \n",
       "10619  2018-10-11 19:09:31.521099  \n",
       "5434          2017-11-21 00:00:00  \n",
       "6537   2018-11-11 21:35:32.684827  \n",
       "5914          2017-11-21 00:00:00  \n",
       "16220  2019-03-08 22:28:54.827849  \n",
       "223           2017-11-21 00:00:00  \n",
       "9865   2018-07-08 00:50:22.778778  \n",
       "1790          2017-11-21 00:00:00  \n",
       "9620   2018-04-04 19:32:18.399729  \n",
       "15832   2019-01-03 22:21:15.10247  "
      ]
     },
     "execution_count": 4,
     "metadata": {},
     "output_type": "execute_result"
    }
   ],
   "source": [
    "station_lines_df.info()\n",
    "station_lines_df.sample(10)\n"
   ]
  },
  {
   "cell_type": "code",
   "execution_count": 5,
   "id": "2af3ac2f",
   "metadata": {},
   "outputs": [
    {
     "name": "stdout",
     "output_type": "stream",
     "text": [
      "<class 'pandas.core.frame.DataFrame'>\n",
      "RangeIndex: 15794 entries, 0 to 15793\n",
      "Data columns (total 7 columns):\n",
      " #   Column      Non-Null Count  Dtype  \n",
      "---  ------      --------------  -----  \n",
      " 0   id          15794 non-null  int64  \n",
      " 1   name        14248 non-null  object \n",
      " 2   geometry    15794 non-null  object \n",
      " 3   buildstart  14342 non-null  float64\n",
      " 4   opening     15721 non-null  float64\n",
      " 5   closure     15713 non-null  float64\n",
      " 6   city_id     15794 non-null  int64  \n",
      "dtypes: float64(3), int64(2), object(2)\n",
      "memory usage: 863.9+ KB\n"
     ]
    },
    {
     "data": {
      "text/html": [
       "<div>\n",
       "<style scoped>\n",
       "    .dataframe tbody tr th:only-of-type {\n",
       "        vertical-align: middle;\n",
       "    }\n",
       "\n",
       "    .dataframe tbody tr th {\n",
       "        vertical-align: top;\n",
       "    }\n",
       "\n",
       "    .dataframe thead th {\n",
       "        text-align: right;\n",
       "    }\n",
       "</style>\n",
       "<table border=\"1\" class=\"dataframe\">\n",
       "  <thead>\n",
       "    <tr style=\"text-align: right;\">\n",
       "      <th></th>\n",
       "      <th>id</th>\n",
       "      <th>name</th>\n",
       "      <th>geometry</th>\n",
       "      <th>buildstart</th>\n",
       "      <th>opening</th>\n",
       "      <th>closure</th>\n",
       "      <th>city_id</th>\n",
       "    </tr>\n",
       "  </thead>\n",
       "  <tbody>\n",
       "    <tr>\n",
       "      <th>528</th>\n",
       "      <td>940</td>\n",
       "      <td>NaN</td>\n",
       "      <td>POINT(-0.0498506485737096 51.4982818582583)</td>\n",
       "      <td>1993.0</td>\n",
       "      <td>1999.0</td>\n",
       "      <td>999999.0</td>\n",
       "      <td>69</td>\n",
       "    </tr>\n",
       "    <tr>\n",
       "      <th>738</th>\n",
       "      <td>1226</td>\n",
       "      <td>NaN</td>\n",
       "      <td>POINT(-0.0605422158858456 51.5195940456462)</td>\n",
       "      <td>1880.0</td>\n",
       "      <td>1884.0</td>\n",
       "      <td>999999.0</td>\n",
       "      <td>69</td>\n",
       "    </tr>\n",
       "    <tr>\n",
       "      <th>817</th>\n",
       "      <td>1204</td>\n",
       "      <td>NaN</td>\n",
       "      <td>POINT(-0.284869015664782 51.4770067389025)</td>\n",
       "      <td>1875.0</td>\n",
       "      <td>1877.0</td>\n",
       "      <td>999999.0</td>\n",
       "      <td>69</td>\n",
       "    </tr>\n",
       "    <tr>\n",
       "      <th>842</th>\n",
       "      <td>1205</td>\n",
       "      <td>NaN</td>\n",
       "      <td>POINT(-0.301248558553624 51.4630848598107)</td>\n",
       "      <td>1875.0</td>\n",
       "      <td>1877.0</td>\n",
       "      <td>999999.0</td>\n",
       "      <td>69</td>\n",
       "    </tr>\n",
       "    <tr>\n",
       "      <th>852</th>\n",
       "      <td>1299</td>\n",
       "      <td>North Quay</td>\n",
       "      <td>POINT(-0.0206325056204832 51.506833669525)</td>\n",
       "      <td>1985.0</td>\n",
       "      <td>1987.0</td>\n",
       "      <td>999999.0</td>\n",
       "      <td>69</td>\n",
       "    </tr>\n",
       "    <tr>\n",
       "      <th>...</th>\n",
       "      <td>...</td>\n",
       "      <td>...</td>\n",
       "      <td>...</td>\n",
       "      <td>...</td>\n",
       "      <td>...</td>\n",
       "      <td>...</td>\n",
       "      <td>...</td>\n",
       "    </tr>\n",
       "    <tr>\n",
       "      <th>15498</th>\n",
       "      <td>16226</td>\n",
       "      <td>Sundridge Hill</td>\n",
       "      <td>POINT(0.481842244838987 51.385505610752)</td>\n",
       "      <td>1860.0</td>\n",
       "      <td>1860.0</td>\n",
       "      <td>999999.0</td>\n",
       "      <td>69</td>\n",
       "    </tr>\n",
       "    <tr>\n",
       "      <th>15499</th>\n",
       "      <td>16227</td>\n",
       "      <td>Lower Higham</td>\n",
       "      <td>POINT(0.467832135765462 51.4255464342704)</td>\n",
       "      <td>1846.0</td>\n",
       "      <td>1849.0</td>\n",
       "      <td>999999.0</td>\n",
       "      <td>69</td>\n",
       "    </tr>\n",
       "    <tr>\n",
       "      <th>15500</th>\n",
       "      <td>16228</td>\n",
       "      <td>Benfleet</td>\n",
       "      <td>POINT(0.561452273618102 51.5442670989896)</td>\n",
       "      <td>1852.0</td>\n",
       "      <td>1855.0</td>\n",
       "      <td>999999.0</td>\n",
       "      <td>69</td>\n",
       "    </tr>\n",
       "    <tr>\n",
       "      <th>15501</th>\n",
       "      <td>16229</td>\n",
       "      <td>Broxbourne</td>\n",
       "      <td>POINT(-0.0110359029796427 51.7468567786846)</td>\n",
       "      <td>1839.0</td>\n",
       "      <td>1840.0</td>\n",
       "      <td>999999.0</td>\n",
       "      <td>69</td>\n",
       "    </tr>\n",
       "    <tr>\n",
       "      <th>15502</th>\n",
       "      <td>16230</td>\n",
       "      <td>Cuffley</td>\n",
       "      <td>POINT(-0.110038604005467 51.7094507876432)</td>\n",
       "      <td>1906.0</td>\n",
       "      <td>1910.0</td>\n",
       "      <td>999999.0</td>\n",
       "      <td>69</td>\n",
       "    </tr>\n",
       "  </tbody>\n",
       "</table>\n",
       "<p>911 rows × 7 columns</p>\n",
       "</div>"
      ],
      "text/plain": [
       "          id            name                                     geometry  \\\n",
       "528      940             NaN  POINT(-0.0498506485737096 51.4982818582583)   \n",
       "738     1226             NaN  POINT(-0.0605422158858456 51.5195940456462)   \n",
       "817     1204             NaN   POINT(-0.284869015664782 51.4770067389025)   \n",
       "842     1205             NaN   POINT(-0.301248558553624 51.4630848598107)   \n",
       "852     1299      North Quay   POINT(-0.0206325056204832 51.506833669525)   \n",
       "...      ...             ...                                          ...   \n",
       "15498  16226  Sundridge Hill     POINT(0.481842244838987 51.385505610752)   \n",
       "15499  16227    Lower Higham    POINT(0.467832135765462 51.4255464342704)   \n",
       "15500  16228        Benfleet    POINT(0.561452273618102 51.5442670989896)   \n",
       "15501  16229      Broxbourne  POINT(-0.0110359029796427 51.7468567786846)   \n",
       "15502  16230         Cuffley   POINT(-0.110038604005467 51.7094507876432)   \n",
       "\n",
       "       buildstart  opening   closure  city_id  \n",
       "528        1993.0   1999.0  999999.0       69  \n",
       "738        1880.0   1884.0  999999.0       69  \n",
       "817        1875.0   1877.0  999999.0       69  \n",
       "842        1875.0   1877.0  999999.0       69  \n",
       "852        1985.0   1987.0  999999.0       69  \n",
       "...           ...      ...       ...      ...  \n",
       "15498      1860.0   1860.0  999999.0       69  \n",
       "15499      1846.0   1849.0  999999.0       69  \n",
       "15500      1852.0   1855.0  999999.0       69  \n",
       "15501      1839.0   1840.0  999999.0       69  \n",
       "15502      1906.0   1910.0  999999.0       69  \n",
       "\n",
       "[911 rows x 7 columns]"
      ]
     },
     "execution_count": 5,
     "metadata": {},
     "output_type": "execute_result"
    }
   ],
   "source": [
    "stations_df.info()\n",
    "stations_df.head(10)\n",
    "stations_df[stations_df[\"city_id\"]==69]"
   ]
  },
  {
   "cell_type": "code",
   "execution_count": 6,
   "id": "a482c66e",
   "metadata": {},
   "outputs": [
    {
     "name": "stdout",
     "output_type": "stream",
     "text": [
      "<class 'pandas.core.frame.DataFrame'>\n",
      "RangeIndex: 488 entries, 0 to 487\n",
      "Data columns (total 3 columns):\n",
      " #   Column   Non-Null Count  Dtype \n",
      "---  ------   --------------  ----- \n",
      " 0   id       488 non-null    int64 \n",
      " 1   city_id  488 non-null    int64 \n",
      " 2   name     287 non-null    object\n",
      "dtypes: int64(2), object(1)\n",
      "memory usage: 11.6+ KB\n"
     ]
    },
    {
     "data": {
      "text/html": [
       "<div>\n",
       "<style scoped>\n",
       "    .dataframe tbody tr th:only-of-type {\n",
       "        vertical-align: middle;\n",
       "    }\n",
       "\n",
       "    .dataframe tbody tr th {\n",
       "        vertical-align: top;\n",
       "    }\n",
       "\n",
       "    .dataframe thead th {\n",
       "        text-align: right;\n",
       "    }\n",
       "</style>\n",
       "<table border=\"1\" class=\"dataframe\">\n",
       "  <thead>\n",
       "    <tr style=\"text-align: right;\">\n",
       "      <th></th>\n",
       "      <th>id</th>\n",
       "      <th>city_id</th>\n",
       "      <th>name</th>\n",
       "    </tr>\n",
       "  </thead>\n",
       "  <tbody>\n",
       "    <tr>\n",
       "      <th>0</th>\n",
       "      <td>1</td>\n",
       "      <td>5</td>\n",
       "      <td>NaN</td>\n",
       "    </tr>\n",
       "    <tr>\n",
       "      <th>1</th>\n",
       "      <td>2</td>\n",
       "      <td>6</td>\n",
       "      <td>NaN</td>\n",
       "    </tr>\n",
       "    <tr>\n",
       "      <th>2</th>\n",
       "      <td>3</td>\n",
       "      <td>7</td>\n",
       "      <td>NaN</td>\n",
       "    </tr>\n",
       "    <tr>\n",
       "      <th>3</th>\n",
       "      <td>4</td>\n",
       "      <td>8</td>\n",
       "      <td>NaN</td>\n",
       "    </tr>\n",
       "    <tr>\n",
       "      <th>4</th>\n",
       "      <td>5</td>\n",
       "      <td>9</td>\n",
       "      <td>NaN</td>\n",
       "    </tr>\n",
       "    <tr>\n",
       "      <th>5</th>\n",
       "      <td>6</td>\n",
       "      <td>16</td>\n",
       "      <td>NaN</td>\n",
       "    </tr>\n",
       "    <tr>\n",
       "      <th>6</th>\n",
       "      <td>7</td>\n",
       "      <td>10</td>\n",
       "      <td>NaN</td>\n",
       "    </tr>\n",
       "    <tr>\n",
       "      <th>7</th>\n",
       "      <td>8</td>\n",
       "      <td>11</td>\n",
       "      <td>NaN</td>\n",
       "    </tr>\n",
       "    <tr>\n",
       "      <th>8</th>\n",
       "      <td>9</td>\n",
       "      <td>12</td>\n",
       "      <td>NaN</td>\n",
       "    </tr>\n",
       "    <tr>\n",
       "      <th>9</th>\n",
       "      <td>10</td>\n",
       "      <td>13</td>\n",
       "      <td>NaN</td>\n",
       "    </tr>\n",
       "  </tbody>\n",
       "</table>\n",
       "</div>"
      ],
      "text/plain": [
       "   id  city_id name\n",
       "0   1        5  NaN\n",
       "1   2        6  NaN\n",
       "2   3        7  NaN\n",
       "3   4        8  NaN\n",
       "4   5        9  NaN\n",
       "5   6       16  NaN\n",
       "6   7       10  NaN\n",
       "7   8       11  NaN\n",
       "8   9       12  NaN\n",
       "9  10       13  NaN"
      ]
     },
     "execution_count": 6,
     "metadata": {},
     "output_type": "execute_result"
    }
   ],
   "source": [
    "systems_df.info()\n",
    "systems_df.head(10)\n"
   ]
  },
  {
   "cell_type": "code",
   "execution_count": 7,
   "id": "57ec666b",
   "metadata": {},
   "outputs": [
    {
     "name": "stdout",
     "output_type": "stream",
     "text": [
      "<class 'pandas.core.frame.DataFrame'>\n",
      "RangeIndex: 9757 entries, 0 to 9756\n",
      "Data columns (total 6 columns):\n",
      " #   Column      Non-Null Count  Dtype \n",
      "---  ------      --------------  ----- \n",
      " 0   id          9757 non-null   int64 \n",
      " 1   section_id  9757 non-null   int64 \n",
      " 2   line_id     9757 non-null   int64 \n",
      " 3   created_at  9757 non-null   object\n",
      " 4   updated_at  9757 non-null   object\n",
      " 5   city_id     9757 non-null   int64 \n",
      "dtypes: int64(4), object(2)\n",
      "memory usage: 457.5+ KB\n"
     ]
    },
    {
     "data": {
      "text/html": [
       "<div>\n",
       "<style scoped>\n",
       "    .dataframe tbody tr th:only-of-type {\n",
       "        vertical-align: middle;\n",
       "    }\n",
       "\n",
       "    .dataframe tbody tr th {\n",
       "        vertical-align: top;\n",
       "    }\n",
       "\n",
       "    .dataframe thead th {\n",
       "        text-align: right;\n",
       "    }\n",
       "</style>\n",
       "<table border=\"1\" class=\"dataframe\">\n",
       "  <thead>\n",
       "    <tr style=\"text-align: right;\">\n",
       "      <th></th>\n",
       "      <th>id</th>\n",
       "      <th>section_id</th>\n",
       "      <th>line_id</th>\n",
       "      <th>created_at</th>\n",
       "      <th>updated_at</th>\n",
       "      <th>city_id</th>\n",
       "    </tr>\n",
       "  </thead>\n",
       "  <tbody>\n",
       "    <tr>\n",
       "      <th>0</th>\n",
       "      <td>2494</td>\n",
       "      <td>1278</td>\n",
       "      <td>343</td>\n",
       "      <td>2017-11-21 00:00:00</td>\n",
       "      <td>2017-11-21 00:00:00</td>\n",
       "      <td>252</td>\n",
       "    </tr>\n",
       "    <tr>\n",
       "      <th>1</th>\n",
       "      <td>4124</td>\n",
       "      <td>4477</td>\n",
       "      <td>779</td>\n",
       "      <td>2017-11-21 00:09:55.135507</td>\n",
       "      <td>2017-11-21 00:09:55.135507</td>\n",
       "      <td>63</td>\n",
       "    </tr>\n",
       "    <tr>\n",
       "      <th>2</th>\n",
       "      <td>2495</td>\n",
       "      <td>21</td>\n",
       "      <td>9</td>\n",
       "      <td>2017-11-21 00:00:00</td>\n",
       "      <td>2017-11-21 00:00:00</td>\n",
       "      <td>1</td>\n",
       "    </tr>\n",
       "    <tr>\n",
       "      <th>3</th>\n",
       "      <td>2496</td>\n",
       "      <td>940</td>\n",
       "      <td>228</td>\n",
       "      <td>2017-11-21 00:00:00</td>\n",
       "      <td>2017-11-21 00:00:00</td>\n",
       "      <td>79</td>\n",
       "    </tr>\n",
       "    <tr>\n",
       "      <th>4</th>\n",
       "      <td>4129</td>\n",
       "      <td>4478</td>\n",
       "      <td>793</td>\n",
       "      <td>2017-11-21 17:44:39.765832</td>\n",
       "      <td>2017-11-21 17:44:39.765832</td>\n",
       "      <td>48</td>\n",
       "    </tr>\n",
       "    <tr>\n",
       "      <th>5</th>\n",
       "      <td>4139</td>\n",
       "      <td>4483</td>\n",
       "      <td>797</td>\n",
       "      <td>2017-11-23 21:51:04.515237</td>\n",
       "      <td>2017-11-23 21:51:04.515237</td>\n",
       "      <td>114</td>\n",
       "    </tr>\n",
       "    <tr>\n",
       "      <th>6</th>\n",
       "      <td>4180</td>\n",
       "      <td>4522</td>\n",
       "      <td>657</td>\n",
       "      <td>2017-11-30 17:36:52.150194</td>\n",
       "      <td>2017-11-30 17:36:52.150194</td>\n",
       "      <td>1</td>\n",
       "    </tr>\n",
       "    <tr>\n",
       "      <th>7</th>\n",
       "      <td>4181</td>\n",
       "      <td>4523</td>\n",
       "      <td>657</td>\n",
       "      <td>2017-11-30 18:02:36.400933</td>\n",
       "      <td>2017-11-30 18:02:36.400933</td>\n",
       "      <td>1</td>\n",
       "    </tr>\n",
       "    <tr>\n",
       "      <th>8</th>\n",
       "      <td>4182</td>\n",
       "      <td>4524</td>\n",
       "      <td>657</td>\n",
       "      <td>2017-11-30 18:02:36.429198</td>\n",
       "      <td>2017-11-30 18:02:36.429198</td>\n",
       "      <td>1</td>\n",
       "    </tr>\n",
       "    <tr>\n",
       "      <th>9</th>\n",
       "      <td>4184</td>\n",
       "      <td>4526</td>\n",
       "      <td>657</td>\n",
       "      <td>2017-11-30 18:50:01.420808</td>\n",
       "      <td>2017-11-30 18:50:01.420808</td>\n",
       "      <td>1</td>\n",
       "    </tr>\n",
       "  </tbody>\n",
       "</table>\n",
       "</div>"
      ],
      "text/plain": [
       "     id  section_id  line_id                  created_at  \\\n",
       "0  2494        1278      343         2017-11-21 00:00:00   \n",
       "1  4124        4477      779  2017-11-21 00:09:55.135507   \n",
       "2  2495          21        9         2017-11-21 00:00:00   \n",
       "3  2496         940      228         2017-11-21 00:00:00   \n",
       "4  4129        4478      793  2017-11-21 17:44:39.765832   \n",
       "5  4139        4483      797  2017-11-23 21:51:04.515237   \n",
       "6  4180        4522      657  2017-11-30 17:36:52.150194   \n",
       "7  4181        4523      657  2017-11-30 18:02:36.400933   \n",
       "8  4182        4524      657  2017-11-30 18:02:36.429198   \n",
       "9  4184        4526      657  2017-11-30 18:50:01.420808   \n",
       "\n",
       "                   updated_at  city_id  \n",
       "0         2017-11-21 00:00:00      252  \n",
       "1  2017-11-21 00:09:55.135507       63  \n",
       "2         2017-11-21 00:00:00        1  \n",
       "3         2017-11-21 00:00:00       79  \n",
       "4  2017-11-21 17:44:39.765832       48  \n",
       "5  2017-11-23 21:51:04.515237      114  \n",
       "6  2017-11-30 17:36:52.150194        1  \n",
       "7  2017-11-30 18:02:36.400933        1  \n",
       "8  2017-11-30 18:02:36.429198        1  \n",
       "9  2017-11-30 18:50:01.420808        1  "
      ]
     },
     "execution_count": 7,
     "metadata": {},
     "output_type": "execute_result"
    }
   ],
   "source": [
    "track_lines_df.info()\n",
    "track_lines_df.head(10)"
   ]
  },
  {
   "cell_type": "code",
   "execution_count": 8,
   "id": "811202af",
   "metadata": {},
   "outputs": [
    {
     "name": "stdout",
     "output_type": "stream",
     "text": [
      "<class 'pandas.core.frame.DataFrame'>\n",
      "RangeIndex: 9271 entries, 0 to 9270\n",
      "Data columns (total 7 columns):\n",
      " #   Column      Non-Null Count  Dtype  \n",
      "---  ------      --------------  -----  \n",
      " 0   id          9271 non-null   int64  \n",
      " 1   geometry    9271 non-null   object \n",
      " 2   buildstart  7663 non-null   float64\n",
      " 3   opening     9250 non-null   float64\n",
      " 4   closure     9240 non-null   float64\n",
      " 5   length      9271 non-null   int64  \n",
      " 6   city_id     9271 non-null   int64  \n",
      "dtypes: float64(3), int64(3), object(1)\n",
      "memory usage: 507.1+ KB\n"
     ]
    },
    {
     "data": {
      "text/html": [
       "<div>\n",
       "<style scoped>\n",
       "    .dataframe tbody tr th:only-of-type {\n",
       "        vertical-align: middle;\n",
       "    }\n",
       "\n",
       "    .dataframe tbody tr th {\n",
       "        vertical-align: top;\n",
       "    }\n",
       "\n",
       "    .dataframe thead th {\n",
       "        text-align: right;\n",
       "    }\n",
       "</style>\n",
       "<table border=\"1\" class=\"dataframe\">\n",
       "  <thead>\n",
       "    <tr style=\"text-align: right;\">\n",
       "      <th></th>\n",
       "      <th>id</th>\n",
       "      <th>geometry</th>\n",
       "      <th>buildstart</th>\n",
       "      <th>opening</th>\n",
       "      <th>closure</th>\n",
       "      <th>length</th>\n",
       "      <th>city_id</th>\n",
       "    </tr>\n",
       "  </thead>\n",
       "  <tbody>\n",
       "    <tr>\n",
       "      <th>26</th>\n",
       "      <td>3891</td>\n",
       "      <td>LINESTRING(2.54098090855223 48.8401001862531,2...</td>\n",
       "      <td>1991.0</td>\n",
       "      <td>1993.0</td>\n",
       "      <td>1993.0</td>\n",
       "      <td>753</td>\n",
       "      <td>95</td>\n",
       "    </tr>\n",
       "    <tr>\n",
       "      <th>27</th>\n",
       "      <td>3920</td>\n",
       "      <td>LINESTRING(139.711149052338 35.6490980321521,1...</td>\n",
       "      <td>1924.0</td>\n",
       "      <td>1924.0</td>\n",
       "      <td>1969.0</td>\n",
       "      <td>1099</td>\n",
       "      <td>114</td>\n",
       "    </tr>\n",
       "    <tr>\n",
       "      <th>36</th>\n",
       "      <td>4893</td>\n",
       "      <td>LINESTRING(-87.6337015470323 41.8755914840214,...</td>\n",
       "      <td>1895.0</td>\n",
       "      <td>1895.0</td>\n",
       "      <td>1958.0</td>\n",
       "      <td>9451</td>\n",
       "      <td>147</td>\n",
       "    </tr>\n",
       "    <tr>\n",
       "      <th>39</th>\n",
       "      <td>4894</td>\n",
       "      <td>LINESTRING(-87.7449583 41.8725646,-87.7548059 ...</td>\n",
       "      <td>1905.0</td>\n",
       "      <td>1905.0</td>\n",
       "      <td>1958.0</td>\n",
       "      <td>818</td>\n",
       "      <td>147</td>\n",
       "    </tr>\n",
       "    <tr>\n",
       "      <th>52</th>\n",
       "      <td>4896</td>\n",
       "      <td>LINESTRING(-87.8827459601093 41.880327150266,-...</td>\n",
       "      <td>1926.0</td>\n",
       "      <td>1926.0</td>\n",
       "      <td>1951.0</td>\n",
       "      <td>3515</td>\n",
       "      <td>147</td>\n",
       "    </tr>\n",
       "    <tr>\n",
       "      <th>...</th>\n",
       "      <td>...</td>\n",
       "      <td>...</td>\n",
       "      <td>...</td>\n",
       "      <td>...</td>\n",
       "      <td>...</td>\n",
       "      <td>...</td>\n",
       "      <td>...</td>\n",
       "    </tr>\n",
       "    <tr>\n",
       "      <th>9174</th>\n",
       "      <td>9419</td>\n",
       "      <td>LINESTRING(135.18459 34.24191,135.18571 34.241...</td>\n",
       "      <td>1917.0</td>\n",
       "      <td>1917.0</td>\n",
       "      <td>1924.0</td>\n",
       "      <td>1672</td>\n",
       "      <td>91</td>\n",
       "    </tr>\n",
       "    <tr>\n",
       "      <th>9176</th>\n",
       "      <td>9414</td>\n",
       "      <td>LINESTRING(-58.3618 -34.67812,-58.36194 -34.67...</td>\n",
       "      <td>1969.0</td>\n",
       "      <td>1969.0</td>\n",
       "      <td>1977.0</td>\n",
       "      <td>5737</td>\n",
       "      <td>1</td>\n",
       "    </tr>\n",
       "    <tr>\n",
       "      <th>9177</th>\n",
       "      <td>9415</td>\n",
       "      <td>LINESTRING(-58.39615 -34.66671,-58.39619 -34.6...</td>\n",
       "      <td>1969.0</td>\n",
       "      <td>1969.0</td>\n",
       "      <td>1977.0</td>\n",
       "      <td>3083</td>\n",
       "      <td>1</td>\n",
       "    </tr>\n",
       "    <tr>\n",
       "      <th>9186</th>\n",
       "      <td>9490</td>\n",
       "      <td>LINESTRING(-58.45003 -34.55816,-58.4505 -34.55...</td>\n",
       "      <td>1857.0</td>\n",
       "      <td>1863.0</td>\n",
       "      <td>2019.0</td>\n",
       "      <td>925</td>\n",
       "      <td>1</td>\n",
       "    </tr>\n",
       "    <tr>\n",
       "      <th>9221</th>\n",
       "      <td>9487</td>\n",
       "      <td>LINESTRING(-58.45003 -34.55816,-58.44958 -34.5...</td>\n",
       "      <td>1857.0</td>\n",
       "      <td>1862.0</td>\n",
       "      <td>2019.0</td>\n",
       "      <td>2812</td>\n",
       "      <td>1</td>\n",
       "    </tr>\n",
       "  </tbody>\n",
       "</table>\n",
       "<p>787 rows × 7 columns</p>\n",
       "</div>"
      ],
      "text/plain": [
       "        id                                           geometry  buildstart  \\\n",
       "26    3891  LINESTRING(2.54098090855223 48.8401001862531,2...      1991.0   \n",
       "27    3920  LINESTRING(139.711149052338 35.6490980321521,1...      1924.0   \n",
       "36    4893  LINESTRING(-87.6337015470323 41.8755914840214,...      1895.0   \n",
       "39    4894  LINESTRING(-87.7449583 41.8725646,-87.7548059 ...      1905.0   \n",
       "52    4896  LINESTRING(-87.8827459601093 41.880327150266,-...      1926.0   \n",
       "...    ...                                                ...         ...   \n",
       "9174  9419  LINESTRING(135.18459 34.24191,135.18571 34.241...      1917.0   \n",
       "9176  9414  LINESTRING(-58.3618 -34.67812,-58.36194 -34.67...      1969.0   \n",
       "9177  9415  LINESTRING(-58.39615 -34.66671,-58.39619 -34.6...      1969.0   \n",
       "9186  9490  LINESTRING(-58.45003 -34.55816,-58.4505 -34.55...      1857.0   \n",
       "9221  9487  LINESTRING(-58.45003 -34.55816,-58.44958 -34.5...      1857.0   \n",
       "\n",
       "      opening  closure  length  city_id  \n",
       "26     1993.0   1993.0     753       95  \n",
       "27     1924.0   1969.0    1099      114  \n",
       "36     1895.0   1958.0    9451      147  \n",
       "39     1905.0   1958.0     818      147  \n",
       "52     1926.0   1951.0    3515      147  \n",
       "...       ...      ...     ...      ...  \n",
       "9174   1917.0   1924.0    1672       91  \n",
       "9176   1969.0   1977.0    5737        1  \n",
       "9177   1969.0   1977.0    3083        1  \n",
       "9186   1863.0   2019.0     925        1  \n",
       "9221   1862.0   2019.0    2812        1  \n",
       "\n",
       "[787 rows x 7 columns]"
      ]
     },
     "execution_count": 8,
     "metadata": {},
     "output_type": "execute_result"
    }
   ],
   "source": [
    "track_df.info()\n",
    "track_df.head(10)\n",
    "track_df[track_df[\"closure\"] < 999999]"
   ]
  }
 ],
 "metadata": {
  "kernelspec": {
   "display_name": "base",
   "language": "python",
   "name": "python3"
  },
  "language_info": {
   "codemirror_mode": {
    "name": "ipython",
    "version": 3
   },
   "file_extension": ".py",
   "mimetype": "text/x-python",
   "name": "python",
   "nbconvert_exporter": "python",
   "pygments_lexer": "ipython3",
   "version": "3.13.5"
  }
 },
 "nbformat": 4,
 "nbformat_minor": 5
}
